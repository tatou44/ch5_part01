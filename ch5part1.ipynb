{
 "cells": [
  {
   "cell_type": "markdown",
   "metadata": {},
   "source": [
    "<style>\n",
    "\th1 {\n",
    "\t--\tbackground-color: grey;\n",
    "\t\tcolor: yellow\n",
    "\t\tborder: 3px solid grey\n",
    "\n",
    "\t}\n",
    "\tp {\n",
    "\t\tbackground-color: grey;\n",
    "\t\tcolor: white\n",
    "\t\tborder: 3px solid grey\n",
    "\n",
    "\t}\n",
    "</style>\n",
    "<h1> Chapter 5 Functions: Part 1</h1>"
   ]
  },
  {
   "cell_type": "markdown",
   "metadata": {},
   "source": [
    "<p style=\"margin-left:40px\">1. 5.1 Introduction to Functions</p>\n",
    "\n",
    "<p style=\"margin-left:40px\">2. 5.2 Defining and Calling a Void Function</p>\n",
    "\n",
    "<p style=\"margin-left:40px\">3. 5.3 Designing a Program to Use Functions</p>\n",
    "\n",
    "<p style=\"margin-left:40px\">4. 5.4 <mark> Local Variables </mark></p>\n",
    "\n",
    "<p style=\"margin-left:40px\">5. 5.5 <mark> Passing Arguments to Functions </mark></p>\n",
    "\n",
    "<p style=\"margin-left:40px\">6. 5.6 Global Variables and Global Constants</p>\n",
    "\n",
    "<p style=\"margin-left:40px\">7. 5.7 Introduction to <mark>Value-Returning Functions </mark>: Generating Random Numbers</p>\n",
    "\n",
    "<p style=\"margin-left:40px\">8. 5.8 Writing Your Own Value-Returning Functions</p>\n",
    "\n",
    "<p style=\"margin-left:40px\">9. 5.9 The math Module</p>\n",
    "\n",
    "<p style=\"margin-left:40px\">10. 5.10 <mark> Storing Functions in Modules <mark> </p>\n",
    "\n",
    "<p style=\"margin-left:40px\">11. 5.11 Turtle Graphics: Modularizing Code with Functions</p>\n"
   ]
  },
  {
   "cell_type": "markdown",
   "metadata": {},
   "source": [
    "***\n",
    "\n",
    "## <p style=\"background-color: grey; color: white \"> ◼️  functions </p>\n",
    "# <p style=\"font-family: Arial; font-size:1.4em;color:red;\"> 1. Basic Examples of Functions</p>\n"
   ]
  },
  {
   "cell_type": "markdown",
   "metadata": {},
   "source": [
    "<style>\n",
    "\th3{\n",
    "\t\tbackground-color: grey\n",
    "\t\tcolor: white\n",
    "\t}\n",
    "</style>\n",
    "\n",
    "<h3> First example of function </h3>\n",
    "\n",
    "- Run all the following code cells and check out the result of code segments"
   ]
  },
  {
   "cell_type": "markdown",
   "metadata": {},
   "source": [
    "#### <p style=\"font-family: Arial; font-size:1.4em; background-color: yellow; color:black;\"> Problem #1.0 </p>\n",
    "\n",
    "#### Run all the cells and figure out the basic usage of while loop structure"
   ]
  },
  {
   "cell_type": "code",
   "execution_count": 1,
   "metadata": {},
   "outputs": [],
   "source": [
    "def fn():\n",
    "\treturn\n",
    "\n",
    "if __name__ == '__main__':\n",
    "\tfn( )\n",
    "\n",
    "# the function f() is defined and has no argumenets, no statments inside of it\n",
    "# so the no return,also.after run the code there is no output.  \n"
   ]
  },
  {
   "cell_type": "code",
   "execution_count": 6,
   "metadata": {},
   "outputs": [
    {
     "name": "stdout",
     "output_type": "stream",
     "text": [
      "0\n"
     ]
    }
   ],
   "source": [
    "# Function to return 0 or 1 \n",
    "# if the number is even, return 0, otherwise 1\n",
    "#  checknum ( )\n",
    "\n",
    "def checknum(n):\n",
    "\tif n % 2 == 0:\n",
    "\t\treturn 0  # 0 is returned if number (n) is even \n",
    "\telse:\n",
    "\t\treturn 1\n",
    "\n",
    "userinput = int(input())      # create input number.\n",
    "retval = checknum(userinput)  # call the checknum() function and assign the returned result to 'retval'\n",
    "\n",
    "print(retval)    # print the returned result 'retval'.\n",
    "\n",
    "\n"
   ]
  },
  {
   "cell_type": "code",
   "execution_count": 10,
   "metadata": {},
   "outputs": [
    {
     "name": "stdout",
     "output_type": "stream",
     "text": [
      "1\n",
      "2\n",
      "3\n",
      "[1, 2, 3, 4, 5, 6, 7]\n"
     ]
    }
   ],
   "source": [
    "def printlst(l):\n",
    "\taverage = sum(l) / len(l) \n",
    "\tfor v in l:\n",
    "\t\tif ( average > v):\n",
    "\t\t\tprint(v)\n",
    "\t\t\t \n",
    "\n",
    "lst = [1,2,3,4,5,6,7]\n",
    "printlst(lst) # print all numbers less than avg\n",
    "print (lst) \n"
   ]
  },
  {
   "cell_type": "code",
   "execution_count": 11,
   "metadata": {},
   "outputs": [
    {
     "name": "stdout",
     "output_type": "stream",
     "text": [
      "6\n"
     ]
    }
   ],
   "source": [
    "\n",
    "def \tgetinput():\n",
    "\tval = int(input())\n",
    "\treturn val\n",
    "\n",
    "userval = getinput()\n",
    "print (userval)\n",
    "\n",
    "\n"
   ]
  },
  {
   "cell_type": "markdown",
   "metadata": {},
   "source": [
    "### How are the functions called?  \n",
    "#### Compare the below two code segments"
   ]
  },
  {
   "cell_type": "code",
   "execution_count": 12,
   "metadata": {},
   "outputs": [
    {
     "name": "stdout",
     "output_type": "stream",
     "text": [
      "6\n"
     ]
    }
   ],
   "source": [
    "def \tgetinput():\n",
    "\tval = int(input())\n",
    "\treturn val\n",
    "\n",
    "def \tmain():\n",
    "\tuserval = getinput()\n",
    "\tprint (userval)\n",
    "\n",
    "\n",
    "if __name__ == '__main__':\n",
    "\tmain()\n",
    "\n",
    "\n",
    "# when we run this code main is called then call the getinput function. \n",
    "# function getinput() is called from inside the main. "
   ]
  },
  {
   "cell_type": "code",
   "execution_count": 14,
   "metadata": {},
   "outputs": [],
   "source": [
    "def \tgetinput():\n",
    "\tval = int(input())\n",
    "\treturn val\n",
    "\n",
    "def \tmain():\n",
    "\tuserval = getinput()\n",
    "\tprint (userval)\n",
    "\n",
    "\t\n",
    "#the defference between first code and the second is that in the first code the mai() function is called\n",
    "# but in the second the main() function did not called, its deos not have 'if __name__ == '__main__': main() '.\n",
    "\n",
    "# in this case in the first code  the function  getinput() received inupt value and than return it.\n",
    "# in the second code when we run the code , main is not called, the code will\n",
    "#  be executed sequencially from top to end of the code .\n",
    "\t    \n"
   ]
  },
  {
   "cell_type": "markdown",
   "metadata": {},
   "source": [
    "#### <p style=\"font-family: Arial; font-size:1.4em; background-color: yellow; color:black;\"> Problem #1.1 </p>\n",
    "\n",
    "####  Edit the above code cell to run main() function\n",
    "\n",
    "```\n",
    "def \tgetinput():\n",
    "\tval = int(input())\n",
    "\treturn val\n",
    "\n",
    "def \tmain():\n",
    "\tuserval = getinput()\n",
    "\tprint (userval)\n",
    "```"
   ]
  },
  {
   "cell_type": "code",
   "execution_count": 15,
   "metadata": {},
   "outputs": [
    {
     "name": "stdout",
     "output_type": "stream",
     "text": [
      "8\n"
     ]
    }
   ],
   "source": [
    "# completing the code to run the main function:\n",
    "def \tgetinput():\n",
    "\tval = int(input())\n",
    "\treturn val\n",
    "\n",
    "def \tmain():\n",
    "\tuserval = getinput()\n",
    "\tprint (userval)\n",
    "\n",
    "# adding the condition statement to run main function:\t\n",
    "\n",
    "if __name__ == '__main__':\n",
    "\tmain()\n"
   ]
  },
  {
   "cell_type": "markdown",
   "metadata": {},
   "source": [
    "#### <p style=\"font-family: Arial; font-size:1.4em; background-color: yellow; color:black;\"> Problem #1.2 </p>\n",
    "\n",
    "####  Check out this code. This code is working without main() function. \n",
    "#### Explain how this code is working properly without main() function\n",
    "\n",
    "```\n",
    "def \tgetinput():\n",
    "\tval = int(input())\n",
    "\treturn val\n",
    "\n",
    "userval = getinput()\n",
    "print (userval)\n",
    "```"
   ]
  },
  {
   "cell_type": "code",
   "execution_count": 16,
   "metadata": {},
   "outputs": [
    {
     "name": "stdout",
     "output_type": "stream",
     "text": [
      "9\n"
     ]
    }
   ],
   "source": [
    "def \tgetinput():\n",
    "\tval = int(input())\n",
    "\treturn val\n",
    "\n",
    "userval = getinput()\n",
    "print (userval)\n",
    "\n",
    "# its not necessary in this case\n",
    "# statments are executed from top to the end of code. function is defined,\n",
    "#  and then called the function from outside the by passing userval to it then print it.  \n"
   ]
  },
  {
   "cell_type": "markdown",
   "metadata": {},
   "source": [
    "## Don't forget to <font color='red'> **\"commit\"** </font> your work or <font color='red'> **\"save\"** </font> in Google Colab\n",
    "## before moving to the next section."
   ]
  },
  {
   "cell_type": "markdown",
   "metadata": {},
   "source": [
    "***\n",
    "\n",
    "## <p style=\"background-color: grey; color: white \"> ◼️  Local Variables </p>\n",
    "# <p style=\"font-family: Arial; font-size:1.4em;color:red;\"> 2. Local Variables </p>\n"
   ]
  },
  {
   "cell_type": "markdown",
   "metadata": {},
   "source": [
    "### Check out the variable \"userval\" after the function call \"getinput()\""
   ]
  },
  {
   "cell_type": "code",
   "execution_count": 24,
   "metadata": {},
   "outputs": [
    {
     "name": "stdout",
     "output_type": "stream",
     "text": [
      "5\n"
     ]
    }
   ],
   "source": [
    "def \tgetinput():\n",
    "\tval = int(input())  # userval is casted to integer\n",
    "\treturn val          # user val is returned as integer  \n",
    "\n",
    "def \tmain():\n",
    "\tuserval = getinput() # call the function getinput from inside main function.\n",
    "\tprint (userval)      # user val is printed \n",
    "\t\n",
    "\t#print(type(userval))     \n",
    "\t#print (val)\n",
    "\n",
    "if __name__ == '__main__':\n",
    "\tmain()\n",
    "\t\n",
    "# the code print integer value user input."
   ]
  },
  {
   "cell_type": "code",
   "execution_count": 21,
   "metadata": {},
   "outputs": [
    {
     "name": "stdout",
     "output_type": "stream",
     "text": [
      "30\n"
     ]
    }
   ],
   "source": [
    "# getsum function takes two argments n1, n2 and sum it\n",
    "# then return the sum val.\n",
    "def getsum(n1, n2): \n",
    "\tval = n1 + n2\n",
    "\treturn val\n",
    "\n",
    "# defining main logic function to call the getsum function.\n",
    "def main():\n",
    "\ta = 10; b = 20           # creating two values\n",
    "\tuserval = getsum(a, b)   # call the function getsum to sum the two values \n",
    "\tprint (userval)          # printing result \n",
    "\n",
    "if __name__ == '__main__':\n",
    "\tmain()\n",
    "\n",
    "# this code takes two value and sum them then print the sum.\t\n"
   ]
  },
  {
   "cell_type": "markdown",
   "metadata": {},
   "source": [
    "<style>\n",
    "\tp {\n",
    "\t\tbackground-color: grey;\n",
    "\t\tcolor: white;\n",
    "\t\tborder: 3px solid grey\n",
    "\n",
    "\t}\n",
    "</style>\n",
    "\n",
    "<p> Making Changes to Parameters </p>\n"
   ]
  },
  {
   "cell_type": "markdown",
   "metadata": {},
   "source": [
    "#### <p style=\"font-family: Arial; font-size:1.4em; background-color: yellow; color:black;\"> Problem #2.1 </p>\n",
    "\n",
    "####  Check out this code. After the function call \"getinput()\" at the line 8 in the main function,  \n",
    "#### show the  values \"a\" and \"b\" \n"
   ]
  },
  {
   "cell_type": "code",
   "execution_count": 25,
   "metadata": {},
   "outputs": [
    {
     "name": "stdout",
     "output_type": "stream",
     "text": [
      "The value of parameter n1 and n2 are 1 and 2\n",
      "The value of a and b are 0 and 0\n"
     ]
    }
   ],
   "source": [
    "\n",
    "def getinput(n1, n2):\n",
    "\tn1 = input()  # local variable\n",
    "\tn2 = input()  # local variable for getinput function.\n",
    "\t \n",
    "\tprint (\"The value of parameter n1 and n2 are {0} and {1}\".format(n1, n2))\n",
    "\t# values of n1, n2 are not returned to be used in main.\n",
    "\n",
    "\t\n",
    "\n",
    "def main():\n",
    "\ta = 0; b = 0   # original values.\n",
    "\tgetinput(a, b)  # call the function getinput then print values of n1, and n2\n",
    "\t                \n",
    "\tprint (\"The value of a and b are {0} and {1}\".format(a, b)) # printing values of a and b\n",
    "\n",
    "if __name__ == '__main__':\n",
    "\tmain()\n",
    "\n",
    "# the parameters n1, and n2 after calling the function getinput() changed inside getinput but not in main because\n",
    "#  they are local variable in getinput. and they are not mutable like list. passed arguments_by_value. "
   ]
  },
  {
   "cell_type": "markdown",
   "metadata": {},
   "source": [
    "### <mark> Explain why both values are 0 </mark>\n",
    "\n",
    "- You can use this markdown box to answer to the question"
   ]
  },
  {
   "cell_type": "markdown",
   "metadata": {},
   "source": [
    "oringinal values of a, b in the main still same , after main is called, because the changes made on variables n1, n2 inside getinput function deos not affect the original variables a, b. since n1, n2 are local variables and they are not returned to be used in main. this what it call assign by value. when parameters are type of immutable like integer.  "
   ]
  },
  {
   "cell_type": "markdown",
   "metadata": {},
   "source": [
    "---\n",
    "#### <p style=\"font-family: Arial; font-size:1.4em; background-color: yellow; color:black;\"> Problem #2.2 </p>\n",
    "\n",
    "####  Check out this code. After the function call \"getinput()\" in the main function,  \n",
    "#### show the  values \"list1\". Explain the result. \n",
    "### In problem 2.1, there were no changes even though the values were altered in the function getinput().\n",
    "### In this code, when you assign the values to the list \"l1\", these changes affect to the main function.\n"
   ]
  },
  {
   "cell_type": "markdown",
   "metadata": {},
   "source": [
    "<style>\n",
    "\tp {\n",
    "\t\tbackground-color: grey;\n",
    "\t\tcolor: white;\n",
    "\t\tborder: 3px solid grey\n",
    "\n",
    "\t}\n",
    "</style>\n",
    "\n",
    "<p> Making Changes to Parameters 2 </p>\n"
   ]
  },
  {
   "cell_type": "code",
   "execution_count": 27,
   "metadata": {},
   "outputs": [
    {
     "name": "stdout",
     "output_type": "stream",
     "text": [
      "The value of parameter l1  ['3', '4', '5']\n",
      "The value of list1 ['3', '4', '5']\n"
     ]
    }
   ],
   "source": [
    "\n",
    "def getinput(l1):\n",
    "\n",
    "\t# making change to 'l1' parameter:\n",
    "\n",
    "\tl1.append(input())  # updating value of the variable list1, \n",
    "\tl1.append(input())  # by appending user inputs \n",
    "\tl1.append(input())\n",
    "\n",
    "\tprint (\"The value of parameter l1 \", l1)\n",
    "\n",
    "def main():\n",
    "\n",
    "\tlist1 = []\t# original value of the variable list1.\n",
    "\n",
    "\tgetinput(list1)\n",
    "\t\n",
    "\tprint (\"The value of list1\", list1);\n",
    "\n",
    "if __name__ == '__main__':\n",
    "\tmain()\n"
   ]
  },
  {
   "cell_type": "markdown",
   "metadata": {},
   "source": [
    "## Answer the question 2.2 here\n",
    "- You can use Markdown syntax to make the MarkDown Text"
   ]
  },
  {
   "cell_type": "markdown",
   "metadata": {},
   "source": [
    "in this case the parameter is a list (mutable type) accept change , means change made to parameter inside 'getinput' function will affect the original variable in 'main' function. what is known call by reference. (code point to the same memory address.) "
   ]
  },
  {
   "cell_type": "markdown",
   "metadata": {},
   "source": [
    "---\n",
    "#### <p style=\"font-family: Arial; font-size:1.4em; background-color: yellow; color:black;\"> Problem #2.3 </p>\n",
    "\n",
    "####  Check out this code. \n",
    "####  Can we return multiple values in the function? \n"
   ]
  },
  {
   "cell_type": "markdown",
   "metadata": {},
   "source": [
    "<style>\n",
    "\tp {\n",
    "\t\tbackground-color: grey;\n",
    "\t\tcolor: white;\n",
    "\t\tborder: 3px solid grey\n",
    "\n",
    "\t}\n",
    "</style>\n",
    "\n",
    "<p> Returning multiple values</p>\n"
   ]
  },
  {
   "cell_type": "code",
   "execution_count": 28,
   "metadata": {},
   "outputs": [
    {
     "name": "stdout",
     "output_type": "stream",
     "text": [
      "The value of num1 and num2 are 5 and 7\n"
     ]
    }
   ],
   "source": [
    "\n",
    "def getinput():\n",
    "\tval1 = input()\n",
    "\tval2 = input()\n",
    "\treturn val1, val2  # returned values packed in a tuple: (val1, val2).\n",
    "\n",
    "def main():\n",
    "\tnum1, num2 = getinput()\t# unpacking values val1 and val2 then assign it to num1, num2 respectivelly,after the call. \n",
    "\n",
    "\tprint (\"The value of num1 and num2 are {0} and {1}\".format(num1, num2))\n",
    "\n",
    "if __name__ == '__main__':\n",
    "\tmain()\n"
   ]
  },
  {
   "cell_type": "markdown",
   "metadata": {},
   "source": [
    "## Answer the question 2.3 here\n",
    "- You can use Markdown syntax to make the MarkDown Text"
   ]
  },
  {
   "cell_type": "markdown",
   "metadata": {},
   "source": [
    "Yes , multiple values can be returned in a function  packed in a tuple."
   ]
  },
  {
   "cell_type": "markdown",
   "metadata": {},
   "source": [
    "---\n",
    "#### <p style=\"font-family: Arial; font-size:1.4em; background-color: yellow; color:black;\"> Problem #2.4 </p>\n",
    "\n",
    "####  Print the local variable that was used in the function getsum() in the main() function. \n",
    "####  Can we print the same value ? Errors? Why?\n",
    "#### Suggest how we can print the 'total' of the function getsum() in the main() \n"
   ]
  },
  {
   "cell_type": "code",
   "execution_count": 41,
   "metadata": {},
   "outputs": [
    {
     "name": "stdout",
     "output_type": "stream",
     "text": [
      "Total inside \"getsum\" is 30\n",
      "Total inside \"main\" is 30\n"
     ]
    }
   ],
   "source": [
    "total = 0  # global variable\n",
    "   \n",
    "def getsum(n1, n2):\n",
    "    \n",
    "    global total  # now total refers to global variable and not to local variable.\n",
    "\n",
    "    total = n1 + n2\n",
    "    print(f'Total inside \"getsum\" is {total}')\n",
    "    \n",
    "    \n",
    "\n",
    "def main():\n",
    "    \n",
    "\n",
    "    \n",
    "    num1 = 10\n",
    "    num2 = 20\n",
    "\n",
    "    getsum(num1, num2)\n",
    "\n",
    "    \n",
    "\n",
    "    print(f'Total inside \"main\" is {total}')\n",
    "\n",
    "    \n",
    "\n",
    "if __name__ == '__main__':\n",
    "    main()"
   ]
  },
  {
   "cell_type": "markdown",
   "metadata": {},
   "source": [
    "## Answer the question 2.4 here\n",
    "- You can use Markdown syntax to make the MarkDown Text"
   ]
  },
  {
   "cell_type": "markdown",
   "metadata": {},
   "source": [
    "Error , we can't print local variable used in 'getsum' inside 'main', because its local and accessible only inside the function where it defined.\n",
    "Suggestion:\n",
    "local variables returned from 'getsum' to use it in 'main' then print it.\n",
    "Or make it as global variable.    "
   ]
  },
  {
   "cell_type": "code",
   "execution_count": 33,
   "metadata": {},
   "outputs": [
    {
     "name": "stdout",
     "output_type": "stream",
     "text": [
      "Total inside \"getsum\" is 30\n",
      "Total inside \"main\" is 30\n"
     ]
    }
   ],
   "source": [
    "def getsum(n1, n2):\n",
    "    total = n1 + n2\n",
    "    print(f'Total inside \"getsum\" is {total}')\n",
    "\n",
    "    return total\n",
    "\n",
    "def main():\n",
    "    total = 0   # original value\n",
    "    num1 = 10   # original value\n",
    "    num2 = 20   # original value\n",
    "\n",
    "    total = getsum(num1, num2)\n",
    "\n",
    "    print(f'Total inside \"main\" is {total}')\n",
    "\n",
    "if __name__ == '__main__':\n",
    "    main()"
   ]
  },
  {
   "cell_type": "markdown",
   "metadata": {},
   "source": [
    "---\n",
    "## Don't forget to <font color='red'> **\"commit\"** </font> your work or <font color='red'> **\"save\"** </font> in Google Colab\n",
    "## before moving to the next section."
   ]
  },
  {
   "cell_type": "markdown",
   "metadata": {},
   "source": [
    "<style>\n",
    "\tp {\n",
    "\t\tbackground-color: grey;\n",
    "\t\tcolor: white;\n",
    "\t\tborder: 3px solid grey\n",
    "\n",
    "\t}\n",
    "</style>\n",
    "\n",
    "<p> Keyword Arguments </p>\n"
   ]
  },
  {
   "cell_type": "markdown",
   "metadata": {},
   "source": [
    "***\n",
    "## <p style=\"background-color: grey; color: white \"> ◼️  Keyworded Arguments </p>\n",
    "# <p style=\"font-family: Arial; font-size:1.4em;color:red;\"> 3. Keyworded Arguments</p>\n"
   ]
  },
  {
   "cell_type": "markdown",
   "metadata": {},
   "source": [
    "#### The parameter order can be changed if the keyworded arguments are used"
   ]
  },
  {
   "cell_type": "code",
   "execution_count": 42,
   "metadata": {},
   "outputs": [
    {
     "name": "stdout",
     "output_type": "stream",
     "text": [
      "The first parameter n1 is 200\n",
      "The second parameter n2 is 100\n",
      "The total is 300\n",
      "The value of total is 300\n"
     ]
    }
   ],
   "source": [
    "\n",
    "def getsum(n1, n2):\n",
    "\tprint (f'The first parameter n1 is {n1}')\n",
    "\tprint (f'The second parameter n2 is {n2}')\n",
    "\ttotal = n1 + n2\n",
    "\tprint (f'The total is {total}')\n",
    "\treturn total\n",
    "\n",
    "def main():\n",
    "\ttotal = getsum(n2=100, n1=200)\t# giving the second parameter first\n",
    "\tprint (f'The value of total is {total}')\n",
    "\n",
    "if __name__ == '__main__':\n",
    "\tmain()"
   ]
  },
  {
   "cell_type": "markdown",
   "metadata": {},
   "source": [
    "#### <p style=\"font-family: Arial; font-size:1.4em; background-color: yellow; color:black;\"> Problem #3.1 </p>\n",
    "\n",
    "### The function setListValues() will work to make the mylst that has the values 100, 200 and 300\n",
    "####  Complete the function call to make the list as following \n",
    "```\n",
    "mylst = [100, 200, 300]\n"
   ]
  },
  {
   "cell_type": "code",
   "execution_count": 49,
   "metadata": {},
   "outputs": [
    {
     "name": "stdout",
     "output_type": "stream",
     "text": [
      "my list in \"setListValues\" is: [100, 200, 300]\n",
      "my list in \"main\" is: [100, 200, 300]\n"
     ]
    }
   ],
   "source": [
    "def setListValues(first_element, second_element, third_element):\n",
    "    mylst=[]\n",
    "    mylst.append(first_element) #= first_element\n",
    "    mylst.append(second_element) # = second_element\n",
    "    mylst.append(third_element)  #= third_element\n",
    "\n",
    "    \n",
    "    print('my list in \"setListValues\" is:', mylst)\n",
    "    return mylst\n",
    "    mylst.append(first_element)\n",
    "    mylst.append(second_element)\n",
    "    mylst.append(third_element)\n",
    "   \n",
    "def main():\n",
    "    mylst = setListValues(third_element= 300,      #complete value,\n",
    "                          second_element= 200,     # complete value, \n",
    "                          first_element= 100       # complete value \n",
    "            )\n",
    "    print('my list in \"main\" is:', mylst)\n",
    "\n",
    "if __name__ == '__main__':\n",
    "    main()\n",
    "     "
   ]
  },
  {
   "cell_type": "markdown",
   "metadata": {},
   "source": [
    "### Follow up Question\n",
    "\n",
    "### Is the list \"mylst\" in function \"setListValues()\" as the one in \"main\"?\n",
    "----"
   ]
  },
  {
   "cell_type": "markdown",
   "metadata": {},
   "source": [
    "Yes , 'mylist' in 'setlistvalues' is the same as in 'main'. "
   ]
  },
  {
   "cell_type": "markdown",
   "metadata": {},
   "source": [
    "### Your Answer :\n",
    "---"
   ]
  },
  {
   "cell_type": "markdown",
   "metadata": {},
   "source": [
    "## Don't forget to <font color='red'> **\"commit\"** </font> your work or <font color='red'> **\"save\"** </font> in Google Colab\n",
    "## before moving to the next section."
   ]
  },
  {
   "cell_type": "markdown",
   "metadata": {},
   "source": [
    "***\n",
    "## <p style=\"background-color: grey; color: white \"> ◼️  Global Variables </p>\n",
    "# <p style=\"font-family: Arial; font-size:1.4em;color:red;\"> 4. Global Variables</p>\n"
   ]
  },
  {
   "cell_type": "markdown",
   "metadata": {},
   "source": [
    "<style>\n",
    "\tp {\n",
    "\t\tbackground-color: grey;\n",
    "\t\tcolor: white;\n",
    "\t\tborder: 3px solid grey\n",
    "\n",
    "\t}\n",
    "</style>\n",
    "\n",
    "<p> Global Variables </p>\n",
    "\n",
    "Run the below code and check out the values <mark> gvar </mark>\n"
   ]
  },
  {
   "cell_type": "code",
   "execution_count": 58,
   "metadata": {},
   "outputs": [
    {
     "name": "stdout",
     "output_type": "stream",
     "text": [
      "Before call myfunction1  100\n",
      "Inside the function  111\n",
      "After call myfunction1  111\n"
     ]
    }
   ],
   "source": [
    "gvar = 100  # declare a global variable and intitiate to 100.\n",
    "            # accessible from any function in this code.\n",
    "\n",
    "def myfunction1():\n",
    "\tprint ('Inside the function ', gvar)  # printing the updated value of 'gvar'.\n",
    "\n",
    "\n",
    "def main():\n",
    "\t\n",
    "\tglobal gvar   # 'gvar' refers to global variable. \n",
    "\n",
    "\tprint ('Before call myfunction1 ', gvar) # this line will print the initial value. \n",
    "\tgvar += 11      # 'gvar' is updated inside the 'main',(manipulated by 'main' function).\n",
    "\t\n",
    "\tmyfunction1()   # calling 'myfunction1' after updating 'gvar' and  \n",
    "\tprint ('After call myfunction1 ', gvar)  # then print the updated 'gvar'.\n",
    "\n",
    "if __name__ == '__main__':\n",
    "\tmain()"
   ]
  },
  {
   "cell_type": "markdown",
   "metadata": {},
   "source": [
    "#### <p style=\"font-family: Arial; font-size:1.4em; background-color: yellow; color:black;\"> Problem #4.1 </p>\n",
    "\n",
    "####  Explain the printed the value of \"gvar\"  \n"
   ]
  },
  {
   "cell_type": "code",
   "execution_count": 20,
   "metadata": {},
   "outputs": [
    {
     "name": "stdout",
     "output_type": "stream",
     "text": [
      "Before call myfunction1  100\n",
      "After call myfunction1  101\n",
      "After increasing by 1 in main function 102\n"
     ]
    }
   ],
   "source": [
    "gvar = 100   # initiating 'gvar' to 100.\n",
    "\n",
    "def myfunction1():\n",
    "    global gvar  # refers to global variable.\n",
    "\n",
    "    gvar += 1    # modifiyng 'gvar' by adding 1. \n",
    "\n",
    "def main():\n",
    "\tglobal gvar\n",
    "\n",
    "\tprint ('Before call myfunction1 ', gvar)  # this will print the initial value of 'gvar'.\n",
    "\n",
    "\tmyfunction1()  # calling the 'myfunction1' to modifie the 'gvar'.\n",
    "\n",
    "\tprint ('After call myfunction1 ', gvar) # printing the modified value of 'gvar' by 'myfunction1'.(new value)\n",
    "\n",
    "\tgvar += 1     # updating the modified value of 'gvar' inside 'main' again.\n",
    "\n",
    "\tprint ('After increasing by 1 in main function', gvar) # print the new updated value of 'gvar' by 'main'.(an other new value)\n",
    "\n",
    "if __name__ == '__main__':\n",
    "\tmain()\n",
    "\n",
    "# since the 'gvar' is accessible from any function in the code , the 'gvar' can be\n",
    "#  manipulated inside of any function,also to make a new values. \n",
    "# changes made on 'gvar' inside 'myfunction1' will affect 'gvar' inside 'main'.\t"
   ]
  },
  {
   "cell_type": "markdown",
   "metadata": {},
   "source": [
    "#### <p style=\"font-family: Arial; font-size:1.4em; background-color: yellow; color:black;\"> Problem #4.2 </p>\n",
    "\n",
    "####  Explain the printed the value of \"gvar\" is 100 even though it has been increased by 1 in the myfuntion1() \n"
   ]
  },
  {
   "cell_type": "code",
   "execution_count": 26,
   "metadata": {},
   "outputs": [
    {
     "name": "stdout",
     "output_type": "stream",
     "text": [
      "Before call myfunction1  100\n",
      "After call myfunction1  100\n"
     ]
    }
   ],
   "source": [
    "gvar = 100\n",
    "\n",
    "def myfunction1():\n",
    "    gvar = 0     # set gvar to 0 , local variable\n",
    "    gvar += 1   # gvar = gvar + 1 = 1 , local variable \n",
    "\n",
    "def main():\n",
    "\tglobal gvar   # 100\n",
    "\tprint ('Before call myfunction1 ', gvar)  # 100\n",
    "\n",
    "\tmyfunction1()  # calling 'myfunctio' \n",
    "\n",
    "\tprint ('After call myfunction1 ', gvar)\n",
    "\n",
    "if __name__ == '__main__':\n",
    "\tmain()\n",
    "\n",
    "# since both 'gvar' inside 'myfunction1' are local variable,so\n",
    "#  change made to thus will not affect 'gvar' inside 'main'\n",
    "# means, 'main' will keep same value of 'gvar' inside of it which is 100. \t"
   ]
  },
  {
   "cell_type": "markdown",
   "metadata": {},
   "source": [
    "#### <p style=\"font-family: Arial; font-size:1.4em; background-color: yellow; color:black;\"> Problem #4.3 </p>\n",
    "\n",
    "####  Explain why this code encounters error\n",
    "####  Fix the Errors and show the complete code \n",
    "\n",
    "gvar = 100\n",
    "\n",
    "def myfunction1():\n",
    "\t\n",
    "    gvar += 1\n",
    "\n",
    "def main():\n",
    "\n",
    "\tglobal gvar\n",
    "\tprint ('Before call myfunction1 ', gvar)\n",
    "\tmyfunction1()\n",
    "\tprint ('After call myfunction1 ', gvar)\n",
    "\n",
    "if __name__ == '__main__':\n",
    "\tmain()"
   ]
  },
  {
   "cell_type": "code",
   "execution_count": 63,
   "metadata": {},
   "outputs": [
    {
     "name": "stdout",
     "output_type": "stream",
     "text": [
      "Before call myfunction1  100\n"
     ]
    },
    {
     "ename": "UnboundLocalError",
     "evalue": "local variable 'gvar' referenced before assignment",
     "output_type": "error",
     "traceback": [
      "\u001b[1;31m---------------------------------------------------------------------------\u001b[0m",
      "\u001b[1;31mUnboundLocalError\u001b[0m                         Traceback (most recent call last)",
      "\u001b[1;32m<ipython-input-63-783a290afc61>\u001b[0m in \u001b[0;36m<module>\u001b[1;34m\u001b[0m\n\u001b[0;32m     13\u001b[0m \u001b[1;33m\u001b[0m\u001b[0m\n\u001b[0;32m     14\u001b[0m \u001b[1;32mif\u001b[0m \u001b[0m__name__\u001b[0m \u001b[1;33m==\u001b[0m \u001b[1;34m'__main__'\u001b[0m\u001b[1;33m:\u001b[0m\u001b[1;33m\u001b[0m\u001b[1;33m\u001b[0m\u001b[0m\n\u001b[1;32m---> 15\u001b[1;33m         \u001b[0mmain\u001b[0m\u001b[1;33m(\u001b[0m\u001b[1;33m)\u001b[0m\u001b[1;33m\u001b[0m\u001b[1;33m\u001b[0m\u001b[0m\n\u001b[0m",
      "\u001b[1;32m<ipython-input-63-783a290afc61>\u001b[0m in \u001b[0;36mmain\u001b[1;34m()\u001b[0m\n\u001b[0;32m      9\u001b[0m         \u001b[1;32mglobal\u001b[0m \u001b[0mgvar\u001b[0m\u001b[1;33m\u001b[0m\u001b[1;33m\u001b[0m\u001b[0m\n\u001b[0;32m     10\u001b[0m         \u001b[0mprint\u001b[0m \u001b[1;33m(\u001b[0m\u001b[1;34m'Before call myfunction1 '\u001b[0m\u001b[1;33m,\u001b[0m \u001b[0mgvar\u001b[0m\u001b[1;33m)\u001b[0m\u001b[1;33m\u001b[0m\u001b[1;33m\u001b[0m\u001b[0m\n\u001b[1;32m---> 11\u001b[1;33m         \u001b[0mmyfunction1\u001b[0m\u001b[1;33m(\u001b[0m\u001b[1;33m)\u001b[0m\u001b[1;33m\u001b[0m\u001b[1;33m\u001b[0m\u001b[0m\n\u001b[0m\u001b[0;32m     12\u001b[0m         \u001b[0mprint\u001b[0m \u001b[1;33m(\u001b[0m\u001b[1;34m'After call myfunction1 '\u001b[0m\u001b[1;33m,\u001b[0m \u001b[0mgvar\u001b[0m\u001b[1;33m)\u001b[0m\u001b[1;33m\u001b[0m\u001b[1;33m\u001b[0m\u001b[0m\n\u001b[0;32m     13\u001b[0m \u001b[1;33m\u001b[0m\u001b[0m\n",
      "\u001b[1;32m<ipython-input-63-783a290afc61>\u001b[0m in \u001b[0;36mmyfunction1\u001b[1;34m()\u001b[0m\n\u001b[0;32m      3\u001b[0m \u001b[1;32mdef\u001b[0m \u001b[0mmyfunction1\u001b[0m\u001b[1;33m(\u001b[0m\u001b[1;33m)\u001b[0m\u001b[1;33m:\u001b[0m\u001b[1;33m\u001b[0m\u001b[1;33m\u001b[0m\u001b[0m\n\u001b[0;32m      4\u001b[0m \u001b[1;33m\u001b[0m\u001b[0m\n\u001b[1;32m----> 5\u001b[1;33m     \u001b[0mgvar\u001b[0m \u001b[1;33m+=\u001b[0m \u001b[1;36m1\u001b[0m\u001b[1;33m\u001b[0m\u001b[1;33m\u001b[0m\u001b[0m\n\u001b[0m\u001b[0;32m      6\u001b[0m \u001b[1;33m\u001b[0m\u001b[0m\n\u001b[0;32m      7\u001b[0m \u001b[1;32mdef\u001b[0m \u001b[0mmain\u001b[0m\u001b[1;33m(\u001b[0m\u001b[1;33m)\u001b[0m\u001b[1;33m:\u001b[0m\u001b[1;33m\u001b[0m\u001b[1;33m\u001b[0m\u001b[0m\n",
      "\u001b[1;31mUnboundLocalError\u001b[0m: local variable 'gvar' referenced before assignment"
     ]
    }
   ],
   "source": [
    "gvar = 100\n",
    "\n",
    "def myfunction1():\n",
    "\t    \n",
    "    gvar += 1 \n",
    "\n",
    "def main():\n",
    "\n",
    "\tglobal gvar\n",
    "\tprint ('Before call myfunction1 ', gvar)\n",
    "\tmyfunction1()\n",
    "\tprint ('After call myfunction1 ', gvar)\n",
    "\n",
    "if __name__ == '__main__':\n",
    "\tmain()"
   ]
  },
  {
   "cell_type": "code",
   "execution_count": 66,
   "metadata": {},
   "outputs": [
    {
     "name": "stdout",
     "output_type": "stream",
     "text": [
      "Before call myfunction1  100\n",
      "After call myfunction1  101\n"
     ]
    }
   ],
   "source": [
    "# Fix the errors and show the complete code here:\n",
    "gvar = 100\n",
    "\n",
    "def myfunction1():\n",
    "\n",
    "    global gvar  # adding the key word 'global' to specifie that 'gvar' is global variable.\n",
    "    #gvar = 0     \n",
    "    gvar += 1  # updating the global variable inside 'myfunction'.\n",
    "        \n",
    "\n",
    "def main():\n",
    "\n",
    "\tglobal gvar  # reference the global variable.\n",
    "\tprint ('Before call myfunction1 ', gvar)\n",
    "\tmyfunction1()\n",
    "\tprint ('After call myfunction1 ', gvar) # it will print the updated value of global variable in 'myfunctin1'.  \n",
    "\n",
    "if __name__ == '__main__':\n",
    "\tmain()\n"
   ]
  },
  {
   "cell_type": "markdown",
   "metadata": {},
   "source": [
    "## Please <font color='red'> **\"commit\"** </font> your work or <font color='red'> **\"save\"** </font> in Google Colab\n",
    "## before moving to the next section."
   ]
  },
  {
   "cell_type": "markdown",
   "metadata": {},
   "source": [
    "***\n",
    "## <p style=\"background-color: grey; color: white \"> ◼️  Arbitrary Arguments and Keyword Arguments</p>\n",
    "# <p style=\"font-family: Arial; font-size:1.4em;color:red;\"> 5. Arbitrary Arguments and Keyword Arguments</p>\n"
   ]
  },
  {
   "cell_type": "markdown",
   "metadata": {},
   "source": [
    "## Arbitrary Argument\n",
    "\n",
    "### An arbitrary argument in Python allows a function to accept an unspecified number of arguments using *args for non-keyword arguments or **kwargs for keyword arguments"
   ]
  },
  {
   "cell_type": "markdown",
   "metadata": {},
   "source": [
    "### Arbitrary Arguments (*args):\n",
    "```\n",
    "* is used to allow a function to accept an arbitrary number of positional arguments.\n",
    "```\n",
    "\n",
    "Basic Example"
   ]
  },
  {
   "cell_type": "code",
   "execution_count": 70,
   "metadata": {},
   "outputs": [
    {
     "name": "stdout",
     "output_type": "stream",
     "text": [
      "Hello, Alice!\n",
      "Hello, Bob!\n",
      "Hello, Charlie!\n"
     ]
    }
   ],
   "source": [
    "def greet(*args): # '*args' means this function takes multiple arguments as tuple.\n",
    "\n",
    "    #print(args)\n",
    "    #print(type(args))\n",
    "\n",
    "    for name in args:             # for arg in args: print(f\"Hello, {arg}!\")\n",
    "        print(f\"Hello, {name}!\")  # printing every argument in 'args'.\n",
    "\n",
    "greet(\"Alice\", \"Bob\", \"Charlie\")  # passing arguments to 'greet' function. \n"
   ]
  },
  {
   "cell_type": "markdown",
   "metadata": {},
   "source": [
    "#### Understanding the function type()"
   ]
  },
  {
   "cell_type": "code",
   "execution_count": 71,
   "metadata": {},
   "outputs": [
    {
     "data": {
      "text/plain": [
       "int"
      ]
     },
     "execution_count": 71,
     "metadata": {},
     "output_type": "execute_result"
    }
   ],
   "source": [
    "number = 10\n",
    "type(number)"
   ]
  },
  {
   "cell_type": "markdown",
   "metadata": {},
   "source": [
    "### Check the data type for the arbitrary argument\n"
   ]
  },
  {
   "cell_type": "markdown",
   "metadata": {},
   "source": [
    "#### <p style=\"font-family: Arial; font-size:1.4em; background-color: yellow; color:black;\"> Problem #5.1 </p>\n",
    "\n",
    "####  Check the printed data type.  \n",
    "####  Type the printed data type in the below \n"
   ]
  },
  {
   "cell_type": "code",
   "execution_count": 72,
   "metadata": {},
   "outputs": [
    {
     "name": "stdout",
     "output_type": "stream",
     "text": [
      "<class 'tuple'>\n",
      "(10, 20, 30)\n",
      "10\t20\t30\t"
     ]
    }
   ],
   "source": [
    "def myfunction(*values): # arguments = values ('*values': multiple values).\n",
    "\n",
    "    print(type(values))  # type of values is class tuple.\n",
    "    print (values)       # packed values inside tuple. \n",
    "    for v in values:     \n",
    "        print (v, end='\\t')    # printing every value of values tuple in a single value with tab space.\n",
    "        \n",
    "n1 = 10; n2 = 20; n3=30;  # create values.\n",
    "myfunction(n1, n2, n3)    # call 'myfunction' by passing values."
   ]
  },
  {
   "cell_type": "markdown",
   "metadata": {},
   "source": [
    "#### <mark> Type your answer here </mark>\n",
    "- What is the data type of values in the function ?"
   ]
  },
  {
   "cell_type": "markdown",
   "metadata": {},
   "source": [
    "Data type of values in the function are integers packed inside a class tuple."
   ]
  },
  {
   "cell_type": "markdown",
   "metadata": {},
   "source": [
    "***\n",
    "#### <p style=\"font-family: Arial; font-size:1.4em; background-color: yellow; color:black;\"> Problem #5.2 </p>\n",
    "\n",
    "####  Check the printed data type.  \n",
    "####  Type the printed data type in the below \n"
   ]
  },
  {
   "cell_type": "code",
   "execution_count": 76,
   "metadata": {},
   "outputs": [
    {
     "name": "stdout",
     "output_type": "stream",
     "text": [
      "<class 'list'> It has been printed in the main()\n",
      "<class 'tuple'> It has been printed in the funtion myfuntion()\n",
      "The value of args is  ([10, 20, 30],)\n",
      "The value is: [10, 20, 30]\t \n"
     ]
    }
   ],
   "source": [
    "def myfunction(*args):  # this function takes arguments of type tuple \n",
    "\n",
    "    print(type(args), 'It has been printed in the funtion myfuntion()') # type the printed data type in the below cell\n",
    "\n",
    "    print ('The value of args is ', args)\n",
    "\n",
    "    for v in args:\n",
    "        print ('The value is:', v, end='\\t')\n",
    "    print(' ')\n",
    "    #print(len(args))\n",
    "\n",
    "\n",
    "def main():\n",
    "\n",
    "    values = [10, 20, 30]  # values is list data\n",
    "    print (type(values), 'It has been printed in the main()')    # type the printed data type in the below cell\n",
    "\n",
    "    myfunction(values) \n",
    "\n",
    "if __name__ == '__main__':\n",
    "    main()\n"
   ]
  },
  {
   "cell_type": "markdown",
   "metadata": {},
   "source": [
    "#### <mark> Type your answer here </mark>\n",
    "\n",
    "### Are the two printed data types same? \n",
    "\n",
    "- What is the data type printed in main()?\n",
    "- What is the data type printed in myfunction()?\n",
    "- How many elements are there in the tuple \"args\" ?\n",
    "- What is the data type of <mark> element </mark> in the tuple \"args\" ? \n",
    "- How many elements are there in the list \"values\" ?  How many iterations are occured in the for loop of myfuntion()? Why? Explain it."
   ]
  },
  {
   "cell_type": "markdown",
   "metadata": {},
   "source": [
    "# answers:\n",
    "- The printed data types are not same.\n",
    "- The data type printed in the main() is class list.\n",
    "- There is one element inside the tuple 'args'.\n",
    "- The data type of the 'element' inside the tuple \"args\" is : list.\n",
    "- There are 3 elements in the list \"values\", the number of iterations occured in the 'for' loop of mufunction() is 1 iterartion, because the tuple \"args\" has one element which the list at index 0, length of \"args\" is 1, so the for loop go from 0 to 1 ( for v in range(len(args)) ), only one iterartion. "
   ]
  },
  {
   "cell_type": "markdown",
   "metadata": {},
   "source": [
    "***\n",
    "#### <p style=\"font-family: Arial; font-size:1.4em; background-color: yellow; color:black;\"> Problem #5.3 </p>\n",
    "\n",
    "####  Check the printed data type and clarify the difference printed output values between two function calls\n",
    "####  \n"
   ]
  },
  {
   "cell_type": "code",
   "execution_count": 78,
   "metadata": {},
   "outputs": [
    {
     "name": "stdout",
     "output_type": "stream",
     "text": [
      "<class 'list'>\n",
      "<class 'tuple'>\n",
      "([10, 20, 30],)\n",
      "[10, 20, 30]\t\n",
      "<class 'int'>\n",
      "<class 'tuple'>\n",
      "(10, 20, 30)\n",
      "10\t20\t30\t\n"
     ]
    }
   ],
   "source": [
    "def myfunction(*values):\n",
    "    print(type(values)) # type the printed data type in the below cell\n",
    "    \n",
    "    print (values)\n",
    "\n",
    "    for v in values:\n",
    "        print (v, end='\\t')\n",
    "    print()\n",
    "\n",
    "def main(): \n",
    "\n",
    "    # first call passing a list as arugument: \n",
    "    values = [10, 20, 30]\n",
    "\n",
    "    print(type(values))\n",
    "    myfunction(values)          # It prints (10, 20, 30)    Why ?\n",
    "\n",
    "    # second call passing integers as arguments:\n",
    "    val1 = 10 ; val2 = 20; val3 = 30;\n",
    "    print(type(val1))\n",
    "    myfunction(val1, val2, val3)        # It prints 10 20 30 ; Why?\n",
    "if __name__ == '__main__':\n",
    "    main()\n"
   ]
  },
  {
   "cell_type": "markdown",
   "metadata": {},
   "source": [
    "#### <mark> Type your answer here </mark>\n",
    "\n",
    "### Are the two printed data types same? \n",
    "\n",
    "- What is the data type printed in main()?\n",
    "- What is the data type printed in myfunction()?\n",
    "- How many elements are there in the tuple 'values' at each call myfunction() ? How many iterations are occured in the for-loop? why?"
   ]
  },
  {
   "cell_type": "markdown",
   "metadata": {},
   "source": [
    "# Answers:\n",
    "- The two printed data types are not same.\n",
    "- first call: in 'main' data type is list, in 'myfunction' the data type is tuple.    \n",
    "- second call: in 'main' data type is integers, in 'myfunction' the data type is tuple.\n",
    "- The number elements in the first call is 1, the number of elements in the second call is 3.\n",
    "- the number of iterations occured in the first call is 1, and 3 iterartions in the second call."
   ]
  },
  {
   "cell_type": "markdown",
   "metadata": {},
   "source": [
    "***\n",
    "#### <p style=\"font-family: Arial; font-size:1.4em; background-color: yellow; color:black;\"> Problem #5.4 </p>\n",
    "\n",
    "####  Clarify the differences between two functions \"myfn1\" and \"myfn2\" \n",
    "####  Answer in the below markdown cell. \n"
   ]
  },
  {
   "cell_type": "code",
   "execution_count": 79,
   "metadata": {},
   "outputs": [
    {
     "name": "stdout",
     "output_type": "stream",
     "text": [
      "<class 'tuple'>\n",
      "[10, 20, 30]\t\n",
      "<class 'list'>\n",
      "10\t20\t30\t"
     ]
    }
   ],
   "source": [
    "def myfn1(*values):\n",
    "    print (type(values))            \n",
    "    for v in values:\n",
    "        print (v, end='\\t')\n",
    "\n",
    "def myfn2(values):\n",
    "    print (type(values))            \n",
    "    for v in values:\n",
    "        print (v, end='\\t')\n",
    "        \n",
    "values = [10, 20, 30]\n",
    "myfn1(values)\n",
    "print()\n",
    "myfn2(values)"
   ]
  },
  {
   "cell_type": "markdown",
   "metadata": {},
   "source": [
    "#### <mark> Type your answer here </mark>\n",
    "\n",
    "### Are the two printed data types same? \n",
    "\n",
    "- Are the printed values are same? If not, why? \n",
    "***\n",
    "# Answers:\n",
    "- The data types are not same.\n",
    "- The printed values are not same, also. because the first function 'myfn1' collects arguments in a tuple(one element in this case is a list), which is not same in the function 'myfnc2', takes the list directly (list with 3 elements) and print each element of it.\n",
    " "
   ]
  },
  {
   "cell_type": "markdown",
   "metadata": {},
   "source": [
    "## Unpacking Operator:\n",
    "\n",
    "### <mark> * </mark> is used to unpack elements from a list or tuple into separate variables or to pass multiple arguments to a function."
   ]
  },
  {
   "cell_type": "code",
   "execution_count": 80,
   "metadata": {},
   "outputs": [
    {
     "name": "stdout",
     "output_type": "stream",
     "text": [
      "[10, 20, 30]\n",
      "10 20 30\n"
     ]
    }
   ],
   "source": [
    "# check out the difference between two print statements\n",
    "numbers = [10, 20, 30]   # a list of 3 elements.\n",
    "print (numbers)          # printing the list which is one element.  \n",
    "print (*numbers)         # the (*) is unpacking the elements from the list 'numbers'.\n"
   ]
  },
  {
   "cell_type": "markdown",
   "metadata": {},
   "source": [
    "***\n",
    "#### <p style=\"font-family: Arial; font-size:1.4em; background-color: yellow; color:black;\"> Problem #5.5 </p>\n",
    "\n",
    "####  Clarify the differences of the printed output between two functions \"myfn1\" and \"myfn2\" \n",
    "####  Answer in the below markdown cell. \n"
   ]
  },
  {
   "cell_type": "code",
   "execution_count": 81,
   "metadata": {},
   "outputs": [
    {
     "name": "stdout",
     "output_type": "stream",
     "text": [
      "10 20 30\n",
      "[10, 20, 30]\n",
      "10 20 30 \n"
     ]
    }
   ],
   "source": [
    "def myfn1(n1, n2, n3):  # is defined to takes multiple arguments.\n",
    "    print (n1, n2, n3)  # unpacking values of the arguments.\n",
    "\n",
    "def myfn2(val): # is defined to takes on argument.  \n",
    "    print (val) # printing the whole list 'numbers'.\n",
    "    for v in val:  # printing every value in the list .\n",
    "        print (v, end=' ')\n",
    "    print()\n",
    "\n",
    "numbers = [10, 20, 30]\n",
    "\n",
    "myfn1(*numbers)  # call by passing arguments in form of tuple\n",
    "\n",
    "myfn2(numbers)   # call by passing on e argument."
   ]
  },
  {
   "cell_type": "code",
   "execution_count": 83,
   "metadata": {},
   "outputs": [
    {
     "ename": "TypeError",
     "evalue": "myfn2() takes 1 positional argument but 3 were given",
     "output_type": "error",
     "traceback": [
      "\u001b[1;31m---------------------------------------------------------------------------\u001b[0m",
      "\u001b[1;31mTypeError\u001b[0m                                 Traceback (most recent call last)",
      "\u001b[1;32m<ipython-input-83-e96823c76b06>\u001b[0m in \u001b[0;36m<module>\u001b[1;34m\u001b[0m\n\u001b[0;32m     12\u001b[0m \u001b[1;31m#myfn1(numbers)\u001b[0m\u001b[1;33m\u001b[0m\u001b[1;33m\u001b[0m\u001b[1;33m\u001b[0m\u001b[0m\n\u001b[0;32m     13\u001b[0m \u001b[1;33m\u001b[0m\u001b[0m\n\u001b[1;32m---> 14\u001b[1;33m \u001b[0mmyfn2\u001b[0m\u001b[1;33m(\u001b[0m\u001b[1;33m*\u001b[0m\u001b[0mnumbers\u001b[0m\u001b[1;33m)\u001b[0m\u001b[1;33m\u001b[0m\u001b[1;33m\u001b[0m\u001b[0m\n\u001b[0m",
      "\u001b[1;31mTypeError\u001b[0m: myfn2() takes 1 positional argument but 3 were given"
     ]
    }
   ],
   "source": [
    "def myfn1(n1, n2, n3):\n",
    "    print (n1, n2, n3)\n",
    "\n",
    "def myfn2(val):\n",
    "    print (val)\n",
    "    for v in val:\n",
    "        print (v, end=' ')\n",
    "    print()\n",
    "\n",
    "numbers = [10, 20, 30]\n",
    "\n",
    "myfn1(numbers) \n",
    "\n",
    "myfn2(*numbers)"
   ]
  },
  {
   "cell_type": "markdown",
   "metadata": {},
   "source": [
    "#### <mark> Type your answer here </mark>\n",
    "\n",
    "### Are the two printed output same? \n",
    "\n",
    "- Are the printed values are same? If not, why?  <br>\n",
    "- Is it possible to call function myfn1() ? Clarify your answer<br>  \n",
    "``` myfn1(numbers) ```\n",
    "- Is it possible to call function myfn2() ? Clarify your answer <br>\n",
    "``` myfn2(*numbers) ```\n",
    "\n",
    "***\n",
    "\n",
    "# Answers:\n",
    "- The printed values are not same,first function accept multiple arguments (using *),\n",
    "the second function takes the list directly as one element(one value). \n",
    "- its not possible because the first function takes 3 arguments (will be missing arguments), and the second function takes only one argument."
   ]
  },
  {
   "cell_type": "markdown",
   "metadata": {},
   "source": [
    "***"
   ]
  },
  {
   "cell_type": "markdown",
   "metadata": {},
   "source": [
    "# Keyword Arguments (**args):\n",
    "```\n",
    "* is used to allow a function to accept an arbitrary number of positional arguments. \n",
    "```\n",
    "\n",
    "Basic Example"
   ]
  },
  {
   "cell_type": "markdown",
   "metadata": {},
   "source": [
    "***\n",
    "#### <p style=\"font-family: Arial; font-size:1.4em; background-color: yellow; color:black;\"> Problem #5.5 </p>\n",
    "\n",
    "####  Run the below code cell  \n",
    "####  Answer in the below markdown cell. \n"
   ]
  },
  {
   "cell_type": "markdown",
   "metadata": {},
   "source": [
    "### **kwargs\n",
    "## Run the following code and learn about the keyword argument"
   ]
  },
  {
   "cell_type": "code",
   "execution_count": 84,
   "metadata": {},
   "outputs": [
    {
     "name": "stdout",
     "output_type": "stream",
     "text": [
      "<class 'dict'> The type of kwargs\n",
      "True <--- If this is true, kwargs is a dictionary \n",
      "first -> California\n",
      "mid -> Community\n",
      "last -> College\n"
     ]
    }
   ],
   "source": [
    "def myFun(**kwargs): \n",
    "\tprint (type(kwargs), 'The type of kwargs')\n",
    "\tprint (isinstance(kwargs, dict), '<--- If this is true, kwargs is a dictionary ')\n",
    "\tfor key, value in kwargs.items():\n",
    "\t\tprint (\"%s -> %s\" %(key, value))\n",
    "\n",
    "\n",
    "myFun(first ='California', mid ='Community', last='College')\n"
   ]
  },
  {
   "cell_type": "markdown",
   "metadata": {},
   "source": [
    "\n",
    "-  What is the type of \"kwargs\" ? <br>\n",
    "-  Is it true \"isinstance(kwargs, dict) ?  <br>"
   ]
  },
  {
   "cell_type": "markdown",
   "metadata": {},
   "source": [
    "#### <mark> Type your answer here </mark>\n",
    "- the type of 'kwargs' is dictionary.\n",
    "- True, 'kwargs' is isntance of class dictionary. \n",
    "-\n",
    "***"
   ]
  },
  {
   "cell_type": "markdown",
   "metadata": {},
   "source": [
    "#### <p style=\"font-family: Arial; font-size:1.4em; background-color: yellow; color:black;\"> Problem #5.6 </p>\n",
    "\n",
    "####  Call the function myFun( ) with the following code\n",
    "``` myFun(mid ='Community', last='College', first ='California') ```\n",
    "\n",
    "#### And explain the output. Was output printed from \"first\" key value or \"mid\" key value?\n"
   ]
  },
  {
   "cell_type": "code",
   "execution_count": 86,
   "metadata": {},
   "outputs": [
    {
     "name": "stdout",
     "output_type": "stream",
     "text": [
      "mid -> comunity\n",
      "last -> college\n",
      "first -> california\n"
     ]
    }
   ],
   "source": [
    "def myFun(**kwargs): # arguments are colected in a dictionary.\n",
    "\t \n",
    "\tfor key, value in kwargs.items():\n",
    "\t\tprint (\"%s -> %s\" %(key, value))\n",
    "\n",
    "# Completing the code:\n",
    "myFun(mid = 'comunity', last = 'college', first ='california')\n"
   ]
  },
  {
   "cell_type": "markdown",
   "metadata": {},
   "source": [
    "#### <mark> Type your answer here </mark>\n",
    "- Sice each key mapped its value , so no matter the oreder of key-value, the key will keep its associated value.\n",
    "-\n",
    "-\n",
    "***"
   ]
  },
  {
   "cell_type": "markdown",
   "metadata": {},
   "source": [
    "## Call function with the single value and keyword argument\n",
    "```\n",
    "myFun( normalvalue, **keyword_argument)\n",
    "```"
   ]
  },
  {
   "cell_type": "code",
   "execution_count": 87,
   "metadata": {},
   "outputs": [
    {
     "name": "stdout",
     "output_type": "stream",
     "text": [
      "Apple\n",
      "mid -> Pear\n",
      "last -> Orange\n",
      "Apple\n",
      "mid -> Pear\n",
      "last -> Orange\n"
     ]
    }
   ],
   "source": [
    "def myFun(first, **kwargs):\n",
    "\tprint (first)\n",
    "\tfor key, value in kwargs.items():\n",
    "\t\tprint (\"%s -> %s\" %(key, value))\n",
    "\n",
    "# call myfun() with separate key=value pairs\n",
    "myFun('Apple', mid ='Pear', last='Orange')\n",
    "\n",
    "# Or\n",
    "kwargs = {'mid':'Pear', 'last':'Orange'}\n",
    "myFun('Apple',**kwargs)\n",
    "\n"
   ]
  },
  {
   "cell_type": "markdown",
   "metadata": {},
   "source": [
    "#### <p style=\"font-family: Arial; font-size:1.4em; background-color: yellow; color:black;\"> Problem #5.7 </p>\n",
    "\n",
    "####  Call the function myFun( ) with the following code\n",
    "```\n",
    "\t# Call 1\n",
    "\tmyFun(\"Java\", \"C++\", \"Python\")\n",
    "\tmyFun(arg2=\"C++\", arg3=\"Python\", arg1=\"Java\")\n",
    "\n",
    "\t# Call 2\n",
    "\targs = (\"Java\", \"C++\", \"Python\")\n",
    "\tmyFun(*args)\n",
    "\n",
    "\t# Call 3\n",
    "\tkwargs = {\"arg1\" : \"Java\", \"arg2\" : \"C++\", \"arg3\" : \"Python\"}\n",
    "\tmyFun(**kwargs)\n",
    "```\n",
    "#### And explain the output. All outputs are same? \n"
   ]
  },
  {
   "cell_type": "markdown",
   "metadata": {},
   "source": [
    "## Call function(a, b, c) with \n",
    "- normal value argument: -----   function(arg1, arg2, arg3)\n",
    "- arbitrary argument:-----       function(*args)\n",
    "- keyword argument:-----         function(**kargs)\n",
    "```\n",
    "def myFun( a, b, c):\n",
    "```"
   ]
  },
  {
   "cell_type": "code",
   "execution_count": 95,
   "metadata": {},
   "outputs": [
    {
     "name": "stdout",
     "output_type": "stream",
     "text": [
      "arg1: Java\targ2: C++\targ3: Python\n",
      "arg1: Java\targ2: C++\targ3: Python\n",
      "arg1: Java\targ2: C++\targ3: Python\n",
      "arg1: Java\targ2: C++\targ3: Python\n"
     ]
    }
   ],
   "source": [
    "def myFun(arg1, arg2, arg3):\n",
    "\tprint(\"arg1:\", arg1, end='\\t')\n",
    "\tprint(\"arg2:\", arg2, end='\\t')\n",
    "\tprint(\"arg3:\", arg3, end='\\n')\n",
    "\n",
    "def main():\t\n",
    "\t# Call 1\n",
    "\tmyFun(\"Java\", \"C++\", \"Python\")\n",
    "\tmyFun(arg2=\"C++\", arg3=\"Python\", arg1=\"Java\")\n",
    "\n",
    "\t# Call 2\n",
    "\targs = (\"Java\", \"C++\", \"Python\")\n",
    "\tmyFun(*args)\n",
    "\t\n",
    "\t# Call 3\n",
    "\tkwargs = {\"arg1\" : \"Java\", \"arg2\" : \"C++\", \"arg3\" : \"Python\"}\n",
    "\tmyFun(**kwargs)\n",
    "\n",
    "\n",
    "if __name__ == '__main__':\n",
    "    main()\n",
    "    "
   ]
  },
  {
   "cell_type": "markdown",
   "metadata": {},
   "source": [
    "#### <mark> Type your answer here </mark>\n",
    "\n",
    "### All the output are same? Why? Explain it.\n",
    "# answers:\n",
    "- All outputs are same.\n",
    "\n",
    "- The function is defined on way to take multiple arguments, then print there values in order(arg1: v1, arg2: v2, arg3: v3), no matter the oreder of values passed in the call.\n",
    "- first call: the function collect normal multiple arguments, then print the values in the defined order.\n",
    "- second call: argumnets are collected in a tuple(*args).\n",
    "- third call: arguments are collect as key word arguments in a dictionary(**kwargs). \n",
    "\n",
    "***"
   ]
  },
  {
   "cell_type": "markdown",
   "metadata": {},
   "source": [
    "## Other usefule expressions with arbitarary argument \n",
    "\n",
    "#### Run the followig code cells and learn the arbitrary argument"
   ]
  },
  {
   "cell_type": "markdown",
   "metadata": {},
   "source": [
    "<style>\n",
    "\tp {\n",
    "\t\t--background-color: grey;\n",
    "\t\tcolor: white;\n",
    "\t\tborder: 3px solid grey\n",
    "\n",
    "\t}\n",
    "</style>\n",
    "\n",
    "<p> Using the arbitrary arguments to save the returned value</p>\n",
    "\n"
   ]
  },
  {
   "cell_type": "code",
   "execution_count": 100,
   "metadata": {},
   "outputs": [
    {
     "name": "stdout",
     "output_type": "stream",
     "text": [
      "2\n",
      "6\n",
      "[4]\n"
     ]
    }
   ],
   "source": [
    "def retEven(lst):\n",
    "\tevenlst = []\n",
    "\tfor v in lst:\n",
    "\t\tif v % 2 == 0:\n",
    "\t\t\tevenlst.append(v)\n",
    "\treturn evenlst\n",
    "\n",
    "lst = [1,2,3,4,5,6]\n",
    "first, *others, last = retEven(lst)\n",
    "print (first)\n",
    "print (last)\n",
    "print (others)\n"
   ]
  },
  {
   "cell_type": "markdown",
   "metadata": {},
   "source": [
    "<style>\n",
    "\th1 {\n",
    "\t\tbackground-color: grey;\n",
    "\t\tcolor: Yellow;\n",
    "\t\tborder: 3px solid grey;\n",
    "\t\t-- font-size: xx-large; \n",
    "\t}\n",
    "\tp {\n",
    "\t\tbackground-color: grey;\n",
    "\t\tcolor: white;\n",
    "\t\tborder: 3px solid grey;\n",
    "\t\tfont-size: xx-large\n",
    "\t}\n",
    "</style>\n",
    "<p> Example: *args </p>\n"
   ]
  },
  {
   "cell_type": "code",
   "execution_count": 101,
   "metadata": {},
   "outputs": [
    {
     "name": "stdout",
     "output_type": "stream",
     "text": [
      "('Python Programming',)\n",
      "The value v is  Python Programming \tThe type of v is  <class 'str'>\n",
      "\n",
      "([1, 2, 3, 4, 5],)\n",
      "The value v is  [1, 2, 3, 4, 5] \tThe type of v is  <class 'list'>\n",
      "\n",
      "(1, 2, 3, 4, 5)\n",
      "The value v is  1 \tThe type of v is  <class 'int'>\n",
      "The value v is  2 \tThe type of v is  <class 'int'>\n",
      "The value v is  3 \tThe type of v is  <class 'int'>\n",
      "The value v is  4 \tThe type of v is  <class 'int'>\n",
      "The value v is  5 \tThe type of v is  <class 'int'>\n",
      "\n"
     ]
    }
   ],
   "source": [
    "\n",
    "def printstring(*string):\n",
    "\tprint (string)\n",
    "\tfor v in string:\n",
    "\t\tprint ('The value v is ', v, '\\tThe type of v is ', type(v) )\n",
    "\n",
    "\tprint ()\n",
    "\n",
    "stringvalue = \"Python Programming\"\n",
    "printstring(stringvalue)\n",
    "\n",
    "integerlist = [1,2,3,4,5]\n",
    "printstring(integerlist)\n",
    "\n",
    "printstring(1,2,3,4,5)"
   ]
  },
  {
   "cell_type": "markdown",
   "metadata": {},
   "source": [
    "## Please <font color='red'> **\"commit\"** </font> your work or <font color='red'> **\"save\"** </font> in Google Colab\n",
    "## before moving to the next section."
   ]
  },
  {
   "cell_type": "markdown",
   "metadata": {},
   "source": [
    "***\n",
    "# <p style=\"background-color: grey; color: white \"> ◼️  Section 6 </p>\n",
    "# <p style=\"font-family: Arial; font-size:1.4em;color:red;\"> 6. Yield </p>\n"
   ]
  },
  {
   "cell_type": "markdown",
   "metadata": {},
   "source": [
    "<style>\n",
    "\th1 {\n",
    "\t\tbackground-color: grey;\n",
    "\t\tcolor: Yellow;\n",
    "\t\tborder: 3px solid grey;\n",
    "\t\t-- font-size: xx-large; \n",
    "\t}\n",
    "\tp {\n",
    "\t\tbackground-color: grey;\n",
    "\t\tcolor: white;\n",
    "\t\tborder: 3px solid grey;\n",
    "\t}\n",
    "</style>\n",
    "<h1 font-size:40px> 6.1 iterator </h1>\n",
    "\n"
   ]
  },
  {
   "cell_type": "markdown",
   "metadata": {},
   "source": [
    "## Understanding Iterator \n",
    "\n",
    "#### Run the followig code cells and learn the Iterator concept "
   ]
  },
  {
   "cell_type": "markdown",
   "metadata": {},
   "source": [
    "<style>\n",
    "\th3 {\n",
    "\t\tbackground-color: black;\n",
    "\t\tcolor: white;\n",
    "\t\tborder: 1px solid grey;\n",
    "\t\tfont-size: 30px;\n",
    "\t}\n",
    "\tp {\n",
    "\t\tbackground-color: #336666;\n",
    "\t\tcolor: white;\n",
    "\t\tborder: 1px solid grey;\n",
    "\t\tfont-size: 24;\n",
    "\t}\n",
    "</style>\n",
    "\n",
    "<h3> Iterator </h3> \n",
    "<p>\n",
    "\n",
    "An iterator in Python is an object that enables you to traverse through a collection of elements, such as a list, tuple, or dictionary, one element at a time. It implements two main methods:\n",
    "```\n",
    "__iter__(): Returns the iterator object itself. This is required for an object to be an iterator.\n",
    "__next__(): Returns the next item from the collection. When there are no more items, it raises a StopIteration exception.\n",
    "```\n",
    "</p>"
   ]
  },
  {
   "cell_type": "markdown",
   "metadata": {},
   "source": [
    "#### <p style=\"font-family: Arial; font-size:1.4em; background-color: yellow; color:black;\"> Problem #6.1 </p>\n",
    "\n",
    "<style>\n",
    "\tp {\n",
    "\t\tbackground-color: black;\n",
    "\t\tcolor: white;\n",
    "\t\tborder: 1px solid grey;\n",
    "\t\tfont-size: 30px;\n",
    "\t}\n",
    "</style>\n",
    "<p> Run the following code cells and answer the questions </p>  \n"
   ]
  },
  {
   "cell_type": "markdown",
   "metadata": {},
   "source": [
    "#### What is the type of \"myiter\"? \n",
    "- Your answer: 👉 type of 'myiter' is : list_iterator"
   ]
  },
  {
   "cell_type": "code",
   "execution_count": 104,
   "metadata": {},
   "outputs": [
    {
     "data": {
      "text/plain": [
       "list_iterator"
      ]
     },
     "execution_count": 104,
     "metadata": {},
     "output_type": "execute_result"
    }
   ],
   "source": [
    "mylst = [10, 20, 30]\n",
    "myiter = iter(mylst) # list object become iterator\n",
    "\n",
    "type(myiter)"
   ]
  },
  {
   "cell_type": "markdown",
   "metadata": {},
   "source": [
    "#### What is the result of the following code?\n",
    "``` myiter.__next__() ``` \n",
    "- Your answer: Here 👉 the result is the extracted first element from the list_iterator object."
   ]
  },
  {
   "cell_type": "code",
   "execution_count": 105,
   "metadata": {},
   "outputs": [
    {
     "data": {
      "text/plain": [
       "10"
      ]
     },
     "execution_count": 105,
     "metadata": {},
     "output_type": "execute_result"
    }
   ],
   "source": [
    "myiter.__next__() # using next method to extract one by one element from 'myiter'.   "
   ]
  },
  {
   "cell_type": "markdown",
   "metadata": {},
   "source": [
    "#### What is the result of the following code? \n",
    "``` \n",
    "    myiter.__next__()  \n",
    "    myiter.__next__() \n",
    "``` \n",
    "- Your answer: Here 👉 the result is 20, and 30, means every time the method next is applied on the iterartor list object 'myiter', it will return and print the next element of the mylist one by one. "
   ]
  },
  {
   "cell_type": "code",
   "execution_count": 106,
   "metadata": {},
   "outputs": [
    {
     "name": "stdout",
     "output_type": "stream",
     "text": [
      "20\n",
      "30\n"
     ]
    }
   ],
   "source": [
    "print (myiter.__next__())\n",
    "print (myiter.__next__())"
   ]
  },
  {
   "cell_type": "markdown",
   "metadata": {},
   "source": [
    "#### If you run this code one more, you will see error. Show the error message. Why does it cause an error? \n",
    "``` \n",
    "    myiter.__next__()  \n",
    "``` \n",
    "- Your answer: Here  👉 error because the iterator is empty no more items, its alredy printed all values in the list from myiter object, no more iterations."
   ]
  },
  {
   "cell_type": "code",
   "execution_count": 107,
   "metadata": {},
   "outputs": [
    {
     "ename": "StopIteration",
     "evalue": "",
     "output_type": "error",
     "traceback": [
      "\u001b[1;31m---------------------------------------------------------------------------\u001b[0m",
      "\u001b[1;31mStopIteration\u001b[0m                             Traceback (most recent call last)",
      "\u001b[1;32m<ipython-input-107-279da4cfd673>\u001b[0m in \u001b[0;36m<module>\u001b[1;34m\u001b[0m\n\u001b[1;32m----> 1\u001b[1;33m \u001b[0mprint\u001b[0m \u001b[1;33m(\u001b[0m\u001b[0mmyiter\u001b[0m\u001b[1;33m.\u001b[0m\u001b[0m__next__\u001b[0m\u001b[1;33m(\u001b[0m\u001b[1;33m)\u001b[0m\u001b[1;33m)\u001b[0m\u001b[1;33m\u001b[0m\u001b[1;33m\u001b[0m\u001b[0m\n\u001b[0m",
      "\u001b[1;31mStopIteration\u001b[0m: "
     ]
    }
   ],
   "source": [
    "print (myiter.__next__())"
   ]
  },
  {
   "cell_type": "markdown",
   "metadata": {},
   "source": [
    "#### next() function is the same as ``` __next__() ``` \n",
    "```\n",
    "    iter_obj = iter(mylst)\n",
    "    next(iter_obj) \n",
    "``` "
   ]
  },
  {
   "cell_type": "code",
   "execution_count": 110,
   "metadata": {},
   "outputs": [
    {
     "name": "stdout",
     "output_type": "stream",
     "text": [
      "1\n",
      "2\n",
      "3\n"
     ]
    }
   ],
   "source": [
    "mylst = [1,2,3]\n",
    "itobj= iter(mylst)\n",
    "print (next(itobj))\n",
    "print (next(itobj))\n",
    "print (next(itobj))\n",
    "\n"
   ]
  },
  {
   "cell_type": "markdown",
   "metadata": {},
   "source": [
    "***\n",
    "#### <p style=\"font-family: Arial; font-size:1.4em; background-color: yellow; color:black;\"> Problem #6.2: Loop Structures with Iterator </p>\n",
    "\n",
    "<style>\n",
    "\tp {\n",
    "\t\tbackground-color: black;\n",
    "\t\tcolor: white;\n",
    "\t\tborder: 1px solid grey;\n",
    "\t\tfont-size: 30px;\n",
    "\t}\n",
    "</style>\n",
    "<p> Run the following code cells and answer the questions </p>  \n"
   ]
  },
  {
   "cell_type": "markdown",
   "metadata": {},
   "source": [
    "#### Compare two loop structures with iterator, for loop and while loop."
   ]
  },
  {
   "cell_type": "markdown",
   "metadata": {},
   "source": [
    "<style>\n",
    "\th5 {\n",
    "\t\tbackground-color: black;\n",
    "\t\tcolor: white;\n",
    "\t\tborder: 1px solid grey;\n",
    "\t\tfont-size: 30px;\n",
    "\t}\n",
    "\tp {\n",
    "\t\tbackground-color: #336666;\n",
    "\t\tcolor: white;\n",
    "\t\tborder: 1px solid grey;\n",
    "\t\tfont-size: 24;\n",
    "\t}\n",
    "</style>\n",
    "##### for loop\n",
    "<p>\n",
    "Using Iterators in Loops <br>\n",
    "Most commonly, you use iterators in a for loop, which automatically handles the StopIteration exception:\n",
    "</p>"
   ]
  },
  {
   "cell_type": "code",
   "execution_count": 52,
   "metadata": {},
   "outputs": [
    {
     "name": "stdout",
     "output_type": "stream",
     "text": [
      "10\t20\t30\t"
     ]
    }
   ],
   "source": [
    "mylst = [10, 20 , 30]\n",
    "myiter = iter(mylst)\n",
    "for v in myiter:\n",
    "    print (v, end='\\t')"
   ]
  },
  {
   "cell_type": "markdown",
   "metadata": {},
   "source": [
    "<style>\n",
    "\th5 {\n",
    "\t\tbackground-color: black;\n",
    "\t\tcolor: white;\n",
    "\t\tborder: 1px solid grey;\n",
    "\t\tfont-size: 30px;\n",
    "\t}\n",
    "\tp {\n",
    "\t\tbackground-color: #336666;\n",
    "\t\tcolor: white;\n",
    "\t\tborder: 1px solid grey;\n",
    "\t\tfont-size: 24;\n",
    "\t}\n",
    "</style>\n",
    "##### while loop"
   ]
  },
  {
   "cell_type": "code",
   "execution_count": 112,
   "metadata": {},
   "outputs": [
    {
     "name": "stdout",
     "output_type": "stream",
     "text": [
      "10\t20\t30\t"
     ]
    }
   ],
   "source": [
    "mylst = [10, 20, 30]\n",
    "iter_obj = iter(mylst)\n",
    "while True: \n",
    "    try:\n",
    "        print (next(iter_obj), end= '\\t')\n",
    "    except StopIteration:\n",
    "        break\n"
   ]
  },
  {
   "cell_type": "markdown",
   "metadata": {},
   "source": [
    "### Compare two loop structures. What is the difference between two loops to use the iterator for traversing all the elements in the list?\n",
    "#### Your Answer: Here 👉 \n",
    "- For loop: when no more items in the list_iterator the loop will stop automaticaly without raising error(StopIteration).\n",
    "- While loop: we use the try and exception to catch the error when no more items ,and break the loop.   "
   ]
  },
  {
   "cell_type": "markdown",
   "metadata": {},
   "source": [
    "***"
   ]
  },
  {
   "cell_type": "markdown",
   "metadata": {},
   "source": [
    "<style>\n",
    "\th1 {\n",
    "\t\tbackground-color: grey;\n",
    "\t\tcolor: Yellow;\n",
    "\t\tborder: 3px solid grey;\n",
    "\t\tfont-size: xx-large; \n",
    "\t}\n",
    "\tp {\n",
    "\t\tbackground-color: grey;\n",
    "\t\tcolor: white;\n",
    "\t\tfont-size: 24px;\n",
    "\t\tborder: 3px solid grey;\n",
    "\t}\n",
    "</style>\n",
    "# <h1 font-size:40px> 6.2 Generator </h1>\n",
    "\n",
    "\n",
    "## Concepts of Generator \n",
    "<p>\n",
    "A generator in Python is a special type of iterator that allows you to iterate over a sequence of values lazily, meaning it generates values on the fly and only when needed. <br> This makes generators memory-efficient, especially when dealing with large datasets, because they do not require all the values to be stored in memory at once.\n",
    "</p>"
   ]
  },
  {
   "cell_type": "markdown",
   "metadata": {},
   "source": [
    "***\n",
    "#### <p style=\"font-family: Arial; font-size:1.4em; background-color: yellow; color:black;\"> Problem #6.3 </p>\n",
    "\n",
    "<style>\n",
    "\tp {\n",
    "\t\tbackground-color: black;\n",
    "\t\tcolor: white;\n",
    "\t\tborder: 1px solid grey;\n",
    "\t\tfont-size: 30px;\n",
    "\t}\n",
    "</style>\n",
    "<p> Run the following code cells and answer the questions </p>  \n"
   ]
  },
  {
   "cell_type": "code",
   "execution_count": 124,
   "metadata": {},
   "outputs": [
    {
     "name": "stdout",
     "output_type": "stream",
     "text": [
      "<class 'generator'>\n"
     ]
    }
   ],
   "source": [
    "def mygen():\n",
    "    yield 1\n",
    "\n",
    "gen = mygen()\n",
    "#print(next(gen))\n",
    "#print(gen.__next__())\n",
    "print (type(gen))"
   ]
  },
  {
   "cell_type": "markdown",
   "metadata": {},
   "source": [
    "#### Run this code and check out the output. Show the type of \"gen\"\n",
    "```\n",
    "def mygen():\n",
    "    yield 1\n",
    "\n",
    "gen = mygen()\n",
    "print (type(gen))\n",
    "```\n",
    "##### Your answer: Here 👉 \n",
    "- type of 'gen' is class 'generator'. \n",
    "\n",
    "\n",
    "***"
   ]
  },
  {
   "cell_type": "code",
   "execution_count": 127,
   "metadata": {},
   "outputs": [
    {
     "name": "stdout",
     "output_type": "stream",
     "text": [
      "10\n",
      "20\n",
      "30\n"
     ]
    }
   ],
   "source": [
    "def mygen():\n",
    "    yield 10\n",
    "    yield 20\n",
    "    yield 30\n",
    "\n",
    "gen = mygen()\n",
    "print (next(gen)) # first print\n",
    "print (next(gen)) # second print\n",
    "print (next(gen)) # third print\n",
    "\n"
   ]
  },
  {
   "cell_type": "markdown",
   "metadata": {},
   "source": [
    "#### Run this code and check out the output. What are the value from \"next(gen)\"? \n",
    "```\n",
    "def mygen():\n",
    "    yield 10\n",
    "    yield 20\n",
    "    yield 30\n",
    "\n",
    "gen = mygen()\n",
    "print (next(gen))\n",
    "print (next(gen))\n",
    "print (next(gen))\n",
    "```\n",
    "##### Your answer: Here 👉 the values are yielded one by one and printed one by one. \n",
    "- first print the value is : 10  -> the value returned from next() function\n",
    "- second print the value is : 20 -> the value returned from next() function\n",
    "- third print the value is : 30  -> the value returned from next() function\n",
    "\n",
    "***"
   ]
  },
  {
   "cell_type": "code",
   "execution_count": 128,
   "metadata": {},
   "outputs": [
    {
     "name": "stdout",
     "output_type": "stream",
     "text": [
      "10\t20\t30\t"
     ]
    }
   ],
   "source": [
    "def mygen():\n",
    "    yield 10\n",
    "    yield 20\n",
    "    yield 30\n",
    "\n",
    "gen = mygen() # create a generator object 'gen'\n",
    "\n",
    "for v in gen:        # using a for loop instead of next function to extract all the values one by one from 'gen'.\n",
    "    print (v, end='\\t')  # the print the values with tab space between each."
   ]
  },
  {
   "cell_type": "markdown",
   "metadata": {},
   "source": [
    "#### Run this code and check out the output. What are the value from \"next(gen)\"? \n",
    "```\n",
    "def mygen():\n",
    "    yield 10\n",
    "    yield 20\n",
    "    yield 30\n",
    "\n",
    "gen = mygen()\n",
    "for v in gen:\n",
    "    print (v, end='\\t')\n",
    "```\n",
    "##### Your answer: Here 👉 using for loop to extract values from 'gen'\n",
    "- values printed are : 10  20  30.\n",
    "\n",
    "\n",
    "***"
   ]
  },
  {
   "cell_type": "code",
   "execution_count": 129,
   "metadata": {},
   "outputs": [
    {
     "name": "stdout",
     "output_type": "stream",
     "text": [
      "10\n",
      "20\n",
      "30\n"
     ]
    }
   ],
   "source": [
    "def mygen():\n",
    "    yield 10\n",
    "    yield 20\n",
    "    yield 30\n",
    "\n",
    "gen = mygen()\n",
    "while True:      # using while loop to extract the values from 'gen'\n",
    "    try:         # the try and except blocks is used to catch the error when there are no more items in 'gen'.\n",
    "        print (next(gen))\n",
    "    except StopIteration: \n",
    "        break"
   ]
  },
  {
   "cell_type": "markdown",
   "metadata": {},
   "source": [
    "#### Run this code and check out the output. What is the value of the last next(gen) ? \n",
    "```\n",
    "def mygen():\n",
    "    yield 10\n",
    "    yield 20\n",
    "    yield 30\n",
    "\n",
    "gen = mygen()\n",
    "while True:\n",
    "    try:\n",
    "        print (next(gen))\n",
    "    except StopIteration:\n",
    "        break\n",
    "```\n",
    "##### Your answer: Here 👉 while loop is used in this case to print the values.\n",
    "- printed values are : 10, 20 and 30.\n",
    "- same outputs in every case with diffent approches.\n",
    "\n",
    "\n",
    "***"
   ]
  },
  {
   "cell_type": "markdown",
   "metadata": {},
   "source": [
    "<style>\n",
    "\th1 {\n",
    "\t\tbackground-color: grey;\n",
    "\t\tcolor: Yellow;\n",
    "\t\tborder: 3px solid grey;\n",
    "\t\tfont-size: xx-large; \n",
    "\t}\n",
    "\tp {\n",
    "\t\tbackground-color: grey;\n",
    "\t\tcolor: white;\n",
    "\t\tfont-size: 24px;\n",
    "\t\tborder: 3px solid grey;\n",
    "\t}\n",
    "</style>\n",
    "# <h1 font-size:40px> 6.3 yield </h1>\n",
    "\n",
    "\n",
    "## yield statement \n",
    "<p>\n",
    "yield is a keyword used in a function to turn it into a generator. When a function contains a yield statement, it does not execute like a normal function. Instead, it returns a generator object that can be iterated over. \n",
    "</p>"
   ]
  },
  {
   "cell_type": "markdown",
   "metadata": {},
   "source": [
    "***\n",
    "#### <p style=\"font-family: Arial; font-size:1.4em; background-color: yellow; color:black;\"> Problem #6.4 </p>\n",
    "\n",
    "<style>\n",
    "\tp {\n",
    "\t\tbackground-color: black;\n",
    "\t\tcolor: white;\n",
    "\t\tborder: 1px solid grey;\n",
    "\t\tfont-size: 30px;\n",
    "\t}\n",
    "</style>\n",
    "<p> Run the following code cells and answer the questions </p>  \n"
   ]
  },
  {
   "cell_type": "markdown",
   "metadata": {},
   "source": [
    "<style>\n",
    "\tp {\n",
    "\t\t--background-color: grey;\n",
    "\t\tcolor: white;\n",
    "\t\tborder: 3px solid grey\n",
    "\n",
    "\t}\n",
    "</style>\n",
    "\n",
    "<p> Example of yield statement </p>\n",
    "<p> Make a function to return the even number in the list </p>\n",
    "\n"
   ]
  },
  {
   "cell_type": "code",
   "execution_count": 131,
   "metadata": {},
   "outputs": [
    {
     "name": "stdout",
     "output_type": "stream",
     "text": [
      "first even number: 0 --\n",
      "2\n",
      "4\n",
      "6\n",
      "8\n"
     ]
    }
   ],
   "source": [
    "def findEvenNumber(lst):\n",
    "\tfor v in lst:\n",
    "\t\tif ( v % 2 == 0):\n",
    "\t\t\tyield v        # yield even numbers\n",
    "\n",
    "def main():\n",
    "\n",
    "\tmygen = findEvenNumber(range(10))  # create generator object contains even numbers between 0 an 9.\n",
    "\n",
    "\tval = next(mygen)                  # first even number in the list\n",
    "\n",
    "\tprint ('first even number:', val, '--')\n",
    "\n",
    "\tfor val in mygen:                  # iterate over the 'mygen' generator object to extract the even numbers.\n",
    "\t\tprint (val)\n",
    "\n",
    "if __name__ == '__main__':\n",
    "\tmain()"
   ]
  },
  {
   "cell_type": "markdown",
   "metadata": {},
   "source": [
    "<style>\n",
    "\tp {\n",
    "\t\t--background-color: grey;\n",
    "\t\tcolor: white;\n",
    "\t\tborder: 3px solid grey\n",
    "\n",
    "\t}\n",
    "</style>\n",
    "\n",
    "<p> Make a function to return the generator for the Fibonacci number </p> \n",
    "\n"
   ]
  },
  {
   "cell_type": "code",
   "execution_count": 133,
   "metadata": {},
   "outputs": [
    {
     "name": "stdout",
     "output_type": "stream",
     "text": [
      "0\n",
      "1\n",
      "1\n",
      "2\n",
      "3\n",
      "5\n",
      "8\n",
      "13\n",
      "21\n",
      "34\n",
      "55\n"
     ]
    }
   ],
   "source": [
    "\n",
    "def fibo(N):\n",
    "\tn1, n2 = 0, 1   # starting values\n",
    "\ti = 0           # initiat i to 0\n",
    "\n",
    "\twhile ( i <= N):   # loop N numbers of times\n",
    "\n",
    "\t\tyield n1       # start yielding from the fisrt number n1 = 0\n",
    "\n",
    "\t\tn3 = n1 + n2   # processing to make the fubboccini numbers\n",
    "\t\tn1 = n2\t\n",
    "\t\tn2 = n3\n",
    "\n",
    "\t\ti += 1         # increament i to do next iteration.\n",
    "\n",
    "gen = fibo(10)         # create 'gen' generator object.\n",
    "for v in gen:          # extract all fiboccini numbers from 'gen' by iterations   \n",
    "\tprint (v)\n"
   ]
  },
  {
   "cell_type": "markdown",
   "metadata": {},
   "source": [
    "<style>\n",
    "\th1 {\n",
    "\t\tbackground-color: grey;\n",
    "\t\tcolor: Yellow;\n",
    "\t\tborder: 3px solid grey;\n",
    "\t\t-- font-size: xx-large; \n",
    "\t}\n",
    "\tp {\n",
    "\t\tbackground-color: grey;\n",
    "\t\tcolor: white;\n",
    "\t\tborder: 3px solid grey;\n",
    "\t\tfont-size: xx-large\n",
    "\t}\n",
    "</style>\n",
    "<p> Example: yield </p>\n"
   ]
  },
  {
   "cell_type": "code",
   "execution_count": 134,
   "metadata": {},
   "outputs": [
    {
     "name": "stdout",
     "output_type": "stream",
     "text": [
      "P, y, t, h, n,  , P, r, g, r, m, m, n, g, "
     ]
    }
   ],
   "source": [
    "\n",
    "def consonant(string):\n",
    "\n",
    "\tvowels = ['a', 'e', 'i','o', 'u']\n",
    "\n",
    "\tfor v in string:\n",
    "\t\tif v not in vowels:  # filter consonants from a string\n",
    "\t\t\tyield v          # yield only consonants.\n",
    "\n",
    "\n",
    "strval = 'Python Programming'\n",
    "for v in consonant(strval):\n",
    "\tprint (v, end=', ' )        # print all consonants found in the string 'strval'."
   ]
  },
  {
   "cell_type": "markdown",
   "metadata": {},
   "source": [
    "<style>\n",
    "\tp {\n",
    "\t\tbackground-color: black;\n",
    "\t\tcolor: white;\n",
    "\t\tborder: 1px solid grey;\n",
    "\t\tfont-size: 30px;\n",
    "\t}\n",
    "</style>\n",
    "#### <p style=\"font-family: Arial; font-size:1.4em; background-color: yellow; color:black;\"> Problem #6.5 </p>\n",
    "\n",
    "<p> Make a function to return the generator containing the first half of the list \n"
   ]
  },
  {
   "cell_type": "code",
   "execution_count": 149,
   "metadata": {},
   "outputs": [
    {
     "name": "stdout",
     "output_type": "stream",
     "text": [
      "1\t2\t3\t4\t5\t"
     ]
    }
   ],
   "source": [
    "def halfoflist(mylst):\n",
    "    # completing the code:\n",
    "\n",
    "    hlf_lst = mylst[:len(mylst)//2]\n",
    "   \n",
    "\n",
    "    for v in hlf_lst:\n",
    "\n",
    "    # return the generator that contains the first half of the list\n",
    "        yield v\n",
    "\n",
    "def main():\n",
    "    numbers = [1,2,3,4,5,6,7,8,9,10]\n",
    "    mygen = halfoflist(numbers)\n",
    "\n",
    "    for v in mygen:\n",
    "        print (v, end ='\\t')\n",
    "   \n",
    "if __name__ == '__main__':\n",
    "    main()\n"
   ]
  },
  {
   "cell_type": "markdown",
   "metadata": {},
   "source": [
    "***\n",
    "#### <p style=\"font-family: Arial; font-size:1.4em; background-color: yellow; color:black;\"> Problem #6.6 </p>\n",
    "\n",
    "<style>\n",
    "\tp {\n",
    "\t\tbackground-color: black;\n",
    "\t\tcolor: white;\n",
    "\t\tborder: 1px solid grey;\n",
    "\t\tfont-size: 30px;\n",
    "\t}\n",
    "</style>\n",
    "<p> Make a function that returns the generator containing elements greater than their immediate left. </p>\n",
    "- Example numbers = [1, 3, 2, 4, 5, 0] <br>\n",
    "- Generator for [3,4,5]\n"
   ]
  },
  {
   "cell_type": "code",
   "execution_count": 11,
   "metadata": {},
   "outputs": [
    {
     "name": "stdout",
     "output_type": "stream",
     "text": [
      "1\n",
      "3\n",
      "4\n",
      "5\n",
      "7\n",
      "20\n"
     ]
    }
   ],
   "source": [
    "### Code your program here:\n",
    "def ordered(lst):\n",
    "\n",
    "    n = len(lst)\n",
    "    \n",
    "\n",
    "    for i in range(n-1):\n",
    "        if lst[i+1] > lst[i]:\n",
    "\n",
    "            yield lst[i+1]     # yield the greater number \n",
    "\n",
    "numbers = [-5, 1, 3, 2, 4, 5, 0, 7, 20, -2]\n",
    "gen_greater = ordered(numbers)\n",
    "\n",
    "'''\n",
    "for v in gen_greater:\n",
    "    print(v)\n",
    "'''\n",
    "\n",
    "while True:\n",
    "    try:\n",
    "        \n",
    "        print(next(gen_greater))\n",
    "      \n",
    "    except StopIteration:\n",
    "        break\n",
    "\n"
   ]
  },
  {
   "cell_type": "markdown",
   "metadata": {},
   "source": [
    "<style>\n",
    "\th1 {\n",
    "\t\tbackground-color: grey;\n",
    "\t\tcolor: Yellow;\n",
    "\t\tborder: 3px solid grey;\n",
    "\t\tfont-size: 60px; \n",
    "\t}\n",
    "\tp {\n",
    "\t\tbackground-color: grey;\n",
    "\t\tcolor: white;\n",
    "\t\tfont-size: 20px;\n",
    "\t\tborder: 3px solid grey;\n",
    "\t}\n",
    "</style>\n",
    "# <h1 font-size:60px> 6.4 lambda </h1>\n",
    "\n",
    "\n",
    "## Lambda Function \n",
    "<p>\n",
    "A lambda function in Python is a small, anonymous function defined with the lambda keyword. Unlike a regular function that is defined using the def keyword, a lambda function can have any number of arguments but only one expression. The result of that expression is implicitly returned.\n",
    "</p>\n",
    "\n",
    "Syntax <br>\n",
    "<code> \n",
    "lambda arguments: expression <br>\n",
    "\n",
    "Code Example: <br>\n",
    "<code> \n",
    "add_ten = lambda x: x + 10 <br>\n",
    "print(add_ten(5))  # Output: 15\n"
   ]
  },
  {
   "cell_type": "markdown",
   "metadata": {},
   "source": [
    "***\n",
    "<style>\n",
    "\tp {\n",
    "\t\tbackground-color: black;\n",
    "\t\tcolor: white;\n",
    "\t\tborder: 1px solid grey;\n",
    "\t\tfont-size: 30px;\n",
    "\t}\n",
    "</style>\n",
    "<p> Run the following code cells and check out the results </p>  \n"
   ]
  },
  {
   "cell_type": "markdown",
   "metadata": {},
   "source": [
    "#### Lambda Function Example: Add 10 "
   ]
  },
  {
   "cell_type": "code",
   "execution_count": 12,
   "metadata": {},
   "outputs": [
    {
     "name": "stdout",
     "output_type": "stream",
     "text": [
      "30\n"
     ]
    }
   ],
   "source": [
    "\n",
    "lfn = lambda x : x + 10\n",
    "\n",
    "a = lfn(20)  # 20 + 10\n",
    "print (a)"
   ]
  },
  {
   "cell_type": "markdown",
   "metadata": {},
   "source": [
    "### Lambda that returns x squared"
   ]
  },
  {
   "cell_type": "code",
   "execution_count": 13,
   "metadata": {},
   "outputs": [
    {
     "name": "stdout",
     "output_type": "stream",
     "text": [
      "100\n"
     ]
    }
   ],
   "source": [
    "squared = lambda x : x * x\n",
    "\n",
    "print (squared(10))  # 10 * 10"
   ]
  },
  {
   "cell_type": "markdown",
   "metadata": {},
   "source": [
    "### Lambda that returns a boolean as a result of x > y "
   ]
  },
  {
   "cell_type": "code",
   "execution_count": 14,
   "metadata": {},
   "outputs": [
    {
     "name": "stdout",
     "output_type": "stream",
     "text": [
      "False\n",
      "True\n"
     ]
    }
   ],
   "source": [
    "greater = lambda x, y : x > y \n",
    "\n",
    "print (greater(10, 20))  # True if x > y, False if x < y\n",
    "print (greater(20, 10))\n"
   ]
  },
  {
   "cell_type": "markdown",
   "metadata": {},
   "source": [
    "### Function that returns a lambda "
   ]
  },
  {
   "cell_type": "code",
   "execution_count": 15,
   "metadata": {},
   "outputs": [
    {
     "name": "stdout",
     "output_type": "stream",
     "text": [
      "200\n",
      "400\n"
     ]
    }
   ],
   "source": [
    "def retlam( value):\n",
    "\treturn lambda parameter : parameter * value\n",
    "\n",
    "mylambda = retlam(10)\n",
    "print (mylambda(20))\n",
    "\n",
    "mylambda = retlam(20)\n",
    "print (mylambda(20))"
   ]
  },
  {
   "cell_type": "markdown",
   "metadata": {},
   "source": [
    "### Lambda Examples "
   ]
  },
  {
   "cell_type": "code",
   "execution_count": 16,
   "metadata": {},
   "outputs": [
    {
     "name": "stdout",
     "output_type": "stream",
     "text": [
      "[58, 27, 74, 53, 100]\n",
      "58\n",
      "74\n",
      "53\n",
      "100\n"
     ]
    }
   ],
   "source": [
    "import random\n",
    "\n",
    "lst = [ random.randint(0,100) for i in range(5)]  # generate 5 random numbers between 0 and 100\n",
    "print (lst)    # print the list of random numbers\n",
    "\n",
    "fmin = lambda x : (v for v in x if v > 50)  # find values in the random list of numbers greater than 50.  \n",
    "\n",
    "for v in fmin(lst):   # printing all values greater than 50. \n",
    "\tprint (v)"
   ]
  },
  {
   "cell_type": "code",
   "execution_count": 18,
   "metadata": {},
   "outputs": [
    {
     "name": "stdout",
     "output_type": "stream",
     "text": [
      "100\n"
     ]
    }
   ],
   "source": [
    "gr = lambda x,y: x if x > y else y # compare between two values and find the greater.\n",
    "print (gr(100,20))    # print the greater number between two values\n"
   ]
  },
  {
   "cell_type": "code",
   "execution_count": 39,
   "metadata": {},
   "outputs": [
    {
     "name": "stdout",
     "output_type": "stream",
     "text": [
      "T0: 0\n",
      "10\n",
      "T1: 10\n",
      "5\n"
     ]
    }
   ],
   "source": [
    "total = 0  \n",
    "\n",
    "def addValue(value):\n",
    "\tglobal total   # -> 0\n",
    "\n",
    "\tprint('T-0:', total)\n",
    "\n",
    "\ttotal += value   # -> 10 , (total = 0 + 10  = 10)\n",
    "\treturn total  \n",
    "\n",
    "def subtractValue(value):\n",
    "\tglobal total    # -> 10\n",
    "\n",
    "\tprint('T-1:', total)\n",
    "\t\n",
    "\ttotal -= value\n",
    "\treturn total     # (total = 10 - 5 = 5) \n",
    "\n",
    "\n",
    "\n",
    "\n",
    "mylambda = lambda x, f: f(x)    # using function f as parameter in mylambda\n",
    "\n",
    "\n",
    "print (mylambda(10, addValue))        # using 'addValue' function in mylambda function (print(total + value))\n",
    "print (mylambda(5, subtractValue))    # using 'substractValue' function in mylambda function (print(total - value))\n",
    "\n"
   ]
  },
  {
   "cell_type": "markdown",
   "metadata": {},
   "source": [
    "***\n",
    "#### <p style=\"font-family: Arial; font-size:1.4em; background-color: yellow; color:black;\"> Problem #6.7 </p>\n",
    "\n",
    "<style>\n",
    "\tp {\n",
    "\t\tbackground-color: black;\n",
    "\t\tcolor: white;\n",
    "\t\tborder: 1px solid grey;\n",
    "\t\tfont-size: 30px;\n",
    "\t}\n",
    "</style>\n",
    "<p> Make a Lamba function that returns the average of the list element values </p> \n",
    "- Example numbers = [1, 3, 2, 4, 5, 0] <br>\n",
    "- listavg = getavg(numbers)  # It should be 2.5\n"
   ]
  },
  {
   "cell_type": "code",
   "execution_count": 62,
   "metadata": {},
   "outputs": [
    {
     "name": "stdout",
     "output_type": "stream",
     "text": [
      "5.5\n"
     ]
    }
   ],
   "source": [
    "# Completing the code Here. Lambda Function:\n",
    "def getavg():\n",
    "\n",
    "    return lambda lst: sum(lst)/len(lst) if lst else 0 \n",
    "\n",
    "numbers = [1,2,3,4,5,6,7,8,9,10]\n",
    "#numbers = [1,3,2,4,5,0]\n",
    "result = getavg() \n",
    "\n",
    "print (result(numbers))"
   ]
  },
  {
   "cell_type": "markdown",
   "metadata": {},
   "source": [
    "***\n",
    "#### <p style=\"font-family: Arial; font-size:1.4em; background-color: yellow; color:black;\"> Problem #6.8 </p>\n",
    "\n",
    "<style>\n",
    "\tp {\n",
    "\t\tbackground-color: black;\n",
    "\t\tcolor: white;\n",
    "\t\tborder: 1px solid grey;\n",
    "\t\tfont-size: 30px;\n",
    "\t}\n",
    "</style>\n",
    "<p> Make a Lamba function that returns all the elment that are greater than the immediate right </p> \n",
    "- Example numbers = [1, 3, 2, 4, 5, 0] <br>\n",
    "- listavg = greaterRight(numbers)  # 3, 5\n"
   ]
  },
  {
   "cell_type": "code",
   "execution_count": 57,
   "metadata": {},
   "outputs": [
    {
     "name": "stdout",
     "output_type": "stream",
     "text": [
      "[3, 4, 5]\n"
     ]
    }
   ],
   "source": [
    "#### Complete your Lambda Function Here. Not Regular Function. \n",
    "getGreater = lambda lst : [lst[i + 1]  \n",
    "for i in range(len(lst)-1) if lst[i + 1] > lst[i]]  \n",
    "\n",
    "numbers = [1,3,2,4,5,0]\n",
    "result = getGreater(numbers)\n",
    "print (result)"
   ]
  },
  {
   "cell_type": "markdown",
   "metadata": {},
   "source": [
    "***\n",
    "#### <p style=\"font-family: Arial; font-size:1.4em; background-color: yellow; color:black;\"> Problem #6.9 </p>\n",
    "\n",
    "<style>\n",
    "\tp {\n",
    "\t\tbackground-color: black;\n",
    "\t\tcolor: white;\n",
    "\t\tborder: 1px solid grey;\n",
    "\t\tfont-size: 30px;\n",
    "\t}\n",
    "</style>\n",
    "<p> Make a Lamba function that recevies two lists and determine the longer list. Return the longer list </p>\n",
    "- Example n1 = [1, 3, 2, 4, 5, 0] n2 = [1,2,3]<br>\n",
    "- longerlst = compareTwoList(n1, n2)  # Return n1 \n"
   ]
  },
  {
   "cell_type": "code",
   "execution_count": 64,
   "metadata": {},
   "outputs": [
    {
     "name": "stdout",
     "output_type": "stream",
     "text": [
      "[1, 2, 3, 4, 5, 6, 7, 8, 9]\n"
     ]
    }
   ],
   "source": [
    "## Completing the code:\n",
    "\n",
    "compareTwoList = lambda l1, l2: l1 if len(l1) > len(l2) else l2    \n",
    "\n",
    "n1 = [1,3,2,4,5,0]\n",
    "n2 = [1,2,3,4,5,6,7,8,9]\n",
    "\n",
    "longer = compareTwoList(n1, n2) \n",
    "print (longer)"
   ]
  }
 ],
 "metadata": {
  "kernelspec": {
   "display_name": "Python 3.8.5 ('base')",
   "language": "python",
   "name": "python3"
  },
  "language_info": {
   "codemirror_mode": {
    "name": "ipython",
    "version": 3
   },
   "file_extension": ".py",
   "mimetype": "text/x-python",
   "name": "python",
   "nbconvert_exporter": "python",
   "pygments_lexer": "ipython3",
   "version": "3.8.5"
  },
  "orig_nbformat": 4,
  "vscode": {
   "interpreter": {
    "hash": "ad2bdc8ecc057115af97d19610ffacc2b4e99fae6737bb82f5d7fb13d2f2c186"
   }
  }
 },
 "nbformat": 4,
 "nbformat_minor": 2
}
